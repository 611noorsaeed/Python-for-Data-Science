{
 "cells": [
  {
   "cell_type": "markdown",
   "id": "855458a8",
   "metadata": {},
   "source": [
    "### Logical Operations\n",
    "\n",
    "### NaN Handling\n",
    "\n",
    "### Unique Values, Sorting, and Counting"
   ]
  },
  {
   "cell_type": "markdown",
   "id": "765e0355",
   "metadata": {},
   "source": [
    "# 1. Logical operations"
   ]
  },
  {
   "cell_type": "code",
   "execution_count": 83,
   "id": "023e73e3",
   "metadata": {},
   "outputs": [
    {
     "data": {
      "text/plain": [
       "(array([ 1, 10]), array([4, 3]))"
      ]
     },
     "execution_count": 83,
     "metadata": {},
     "output_type": "execute_result"
    }
   ],
   "source": [
    "import numpy as np\n",
    "\n",
    "# --- Logical Operations ---\n",
    "arr1 = np.array([1, 10])\n",
    "arr2 = np.array([4, 3])\n",
    "\n",
    "arr1, arr2"
   ]
  },
  {
   "cell_type": "code",
   "execution_count": 84,
   "id": "9e35eab7",
   "metadata": {},
   "outputs": [
    {
     "data": {
      "text/plain": [
       "array([ 4, 10])"
      ]
     },
     "execution_count": 84,
     "metadata": {},
     "output_type": "execute_result"
    }
   ],
   "source": [
    "# where: conditionally select values\n",
    "np.where(arr1 > arr2, arr1, arr2)"
   ]
  },
  {
   "cell_type": "code",
   "execution_count": 85,
   "id": "72b42dcb",
   "metadata": {},
   "outputs": [
    {
     "data": {
      "text/plain": [
       "array([1, 3])"
      ]
     },
     "execution_count": 85,
     "metadata": {},
     "output_type": "execute_result"
    }
   ],
   "source": [
    "np.where(arr1 < arr2, arr1, arr2)"
   ]
  },
  {
   "cell_type": "code",
   "execution_count": 86,
   "id": "a7efdde9",
   "metadata": {},
   "outputs": [
    {
     "data": {
      "text/plain": [
       "(array([1, 3]),)"
      ]
     },
     "execution_count": 86,
     "metadata": {},
     "output_type": "execute_result"
    }
   ],
   "source": [
    "items = np.array([\"ref\",'foam','watch','foam'])\n",
    "\n",
    "np.where(items == 'foam')"
   ]
  },
  {
   "cell_type": "code",
   "execution_count": 89,
   "id": "4e12735f",
   "metadata": {},
   "outputs": [
    {
     "data": {
      "text/plain": [
       "np.True_"
      ]
     },
     "execution_count": 89,
     "metadata": {},
     "output_type": "execute_result"
    }
   ],
   "source": [
    "# any and all\n",
    "arr1 = np.array([3,3,2,15,24])\n",
    "np.any(arr1 > 19)"
   ]
  },
  {
   "cell_type": "code",
   "execution_count": 91,
   "id": "f619700b",
   "metadata": {},
   "outputs": [
    {
     "data": {
      "text/plain": [
       "np.False_"
      ]
     },
     "execution_count": 91,
     "metadata": {},
     "output_type": "execute_result"
    }
   ],
   "source": [
    "ages = np.array([1,2,3,10])\n",
    "np.all(ages < 6)"
   ]
  },
  {
   "cell_type": "code",
   "execution_count": 94,
   "id": "4180d346",
   "metadata": {},
   "outputs": [
    {
     "data": {
      "text/plain": [
       "np.True_"
      ]
     },
     "execution_count": 94,
     "metadata": {},
     "output_type": "execute_result"
    }
   ],
   "source": [
    "# logical_and, logical_or\n",
    "np.logical_and(20 > 2, 10 > 2)"
   ]
  },
  {
   "cell_type": "code",
   "execution_count": 95,
   "id": "d063a1a5",
   "metadata": {},
   "outputs": [
    {
     "data": {
      "text/plain": [
       "np.True_"
      ]
     },
     "execution_count": 95,
     "metadata": {},
     "output_type": "execute_result"
    }
   ],
   "source": [
    "np.logical_or(3 > 2, 1 > 2)"
   ]
  },
  {
   "cell_type": "markdown",
   "id": "101a1c33",
   "metadata": {},
   "source": [
    "# Handling NAN Values"
   ]
  },
  {
   "cell_type": "code",
   "execution_count": 96,
   "id": "aaef9af2",
   "metadata": {},
   "outputs": [
    {
     "data": {
      "text/plain": [
       "array([ 1., nan,  3., nan])"
      ]
     },
     "execution_count": 96,
     "metadata": {},
     "output_type": "execute_result"
    }
   ],
   "source": [
    "# --- NaN Handling ---\n",
    "nan_arr = np.array([1.0, np.nan, 3, np.nan])\n",
    "nan_arr"
   ]
  },
  {
   "cell_type": "code",
   "execution_count": 97,
   "id": "10487731",
   "metadata": {},
   "outputs": [
    {
     "data": {
      "text/plain": [
       "array([False,  True, False,  True])"
      ]
     },
     "execution_count": 97,
     "metadata": {},
     "output_type": "execute_result"
    }
   ],
   "source": [
    "# isnan,\n",
    "np.isnan(nan_arr)"
   ]
  },
  {
   "cell_type": "code",
   "execution_count": 98,
   "id": "2f3b37d9",
   "metadata": {},
   "outputs": [
    {
     "data": {
      "text/plain": [
       "array([ True, False,  True, False])"
      ]
     },
     "execution_count": 98,
     "metadata": {},
     "output_type": "execute_result"
    }
   ],
   "source": [
    "np.isfinite(nan_arr)"
   ]
  },
  {
   "cell_type": "code",
   "execution_count": 100,
   "id": "a37e537e",
   "metadata": {},
   "outputs": [
    {
     "data": {
      "text/plain": [
       "array([  1., 100.,   3., 100.])"
      ]
     },
     "execution_count": 100,
     "metadata": {},
     "output_type": "execute_result"
    }
   ],
   "source": [
    "# nan_to_num: replace nan and inf\n",
    "np.nan_to_num(nan_arr, nan=100)"
   ]
  },
  {
   "cell_type": "markdown",
   "id": "c364d691",
   "metadata": {},
   "source": [
    "# Unique Values, Sorting, and Counting"
   ]
  },
  {
   "cell_type": "code",
   "execution_count": 103,
   "id": "0e5cbf1d",
   "metadata": {},
   "outputs": [
    {
     "data": {
      "text/plain": [
       "array([1, 2, 3])"
      ]
     },
     "execution_count": 103,
     "metadata": {},
     "output_type": "execute_result"
    }
   ],
   "source": [
    "# unique\n",
    "vals = np.array([1,2,3,3,3,1])\n",
    "np.unique(vals)"
   ]
  },
  {
   "cell_type": "code",
   "execution_count": 105,
   "id": "2be632f7",
   "metadata": {},
   "outputs": [
    {
     "data": {
      "text/plain": [
       "array([0, 1, 1, 3, 5])"
      ]
     },
     "execution_count": 105,
     "metadata": {},
     "output_type": "execute_result"
    }
   ],
   "source": [
    "# bincount (useful for frequency of small integers)\n",
    "# np.bincount(vals) counts the number of occurrences of each non-negative integer value in the array vals.\n",
    "vals = np.array([1,2,3,3,3,4,4,4,4,4])\n",
    "np.bincount(vals)"
   ]
  },
  {
   "cell_type": "code",
   "execution_count": 106,
   "id": "21ef49c0",
   "metadata": {},
   "outputs": [
    {
     "data": {
      "text/plain": [
       "array([  5,  10,  15,  50,  85, 100])"
      ]
     },
     "execution_count": 106,
     "metadata": {},
     "output_type": "execute_result"
    }
   ],
   "source": [
    "# sort and argsort\n",
    "ages = np.array([85, 100, 50, 5,10,15])\n",
    "np.sort(ages)"
   ]
  },
  {
   "cell_type": "code",
   "execution_count": 108,
   "id": "ec38a649",
   "metadata": {},
   "outputs": [
    {
     "data": {
      "text/plain": [
       "array([0, 1, 3, 2])"
      ]
     },
     "execution_count": 108,
     "metadata": {},
     "output_type": "execute_result"
    }
   ],
   "source": [
    "vals = np.array([1,2,20,3])\n",
    "np.argsort(vals)"
   ]
  },
  {
   "cell_type": "code",
   "execution_count": null,
   "id": "bb4f7aa6",
   "metadata": {},
   "outputs": [],
   "source": []
  }
 ],
 "metadata": {
  "kernelspec": {
   "display_name": "Python 3 (ipykernel)",
   "language": "python",
   "name": "python3"
  },
  "language_info": {
   "codemirror_mode": {
    "name": "ipython",
    "version": 3
   },
   "file_extension": ".py",
   "mimetype": "text/x-python",
   "name": "python",
   "nbconvert_exporter": "python",
   "pygments_lexer": "ipython3",
   "version": "3.9.12"
  }
 },
 "nbformat": 4,
 "nbformat_minor": 5
}
