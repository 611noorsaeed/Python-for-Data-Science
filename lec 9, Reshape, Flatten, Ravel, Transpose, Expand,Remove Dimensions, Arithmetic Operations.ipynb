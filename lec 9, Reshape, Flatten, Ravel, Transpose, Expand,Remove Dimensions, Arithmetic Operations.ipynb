{
 "cells": [
  {
   "cell_type": "markdown",
   "id": "18b33a7e",
   "metadata": {},
   "source": [
    "### 1. Reshape, Flatten, Ravel, Transpose, Expand/Remove Dimensions\n",
    "\n",
    "### 2. Arithmetic Operations (+, -, *, /, %, **)\n"
   ]
  },
  {
   "cell_type": "markdown",
   "id": "b42a7ad9",
   "metadata": {},
   "source": [
    "# 1. Reshape, Flatten, Ravel, Transpose, Expand/Remove Dimensions"
   ]
  },
  {
   "cell_type": "code",
   "execution_count": 4,
   "id": "96810815",
   "metadata": {},
   "outputs": [
    {
     "name": "stdout",
     "output_type": "stream",
     "text": [
      "Original:\n",
      " [[1 2 3]\n",
      " [4 5 6]] \n",
      "Shape: (2, 3)\n",
      "\n",
      "Reshaped to (3,2):\n",
      " [[1 2]\n",
      " [3 4]\n",
      " [5 6]]\n"
     ]
    }
   ],
   "source": [
    "import numpy as np\n",
    "\n",
    "arr = np.array([[1, 2, 3], [4, 5, 6]])  # Shape: (2, 3)\n",
    "print(\"Original:\\n\", arr, \"\\nShape:\", arr.shape)\n",
    "\n",
    "# 1. Reshape\n",
    "reshaped = arr.reshape(3, 2)\n",
    "print(\"\\nReshaped to (3,2):\\n\", reshaped)\n",
    "\n"
   ]
  },
  {
   "cell_type": "code",
   "execution_count": 5,
   "id": "9b48f683",
   "metadata": {},
   "outputs": [
    {
     "name": "stdout",
     "output_type": "stream",
     "text": [
      "\n",
      "Flatten (copy to 1D):\n",
      " [1 2 3 4 5 6]\n"
     ]
    }
   ],
   "source": [
    "# 2. Flatten (copy)\n",
    "flat = arr.flatten()\n",
    "print(\"\\nFlatten (copy to 1D):\\n\", flat)"
   ]
  },
  {
   "cell_type": "code",
   "execution_count": 6,
   "id": "c3272d12",
   "metadata": {},
   "outputs": [
    {
     "name": "stdout",
     "output_type": "stream",
     "text": [
      "\n",
      "Ravel (1D view):\n",
      " [1 2 3 4 5 6]\n"
     ]
    }
   ],
   "source": [
    "# 3. Ravel (view if possible)\n",
    "ravel = arr.ravel()\n",
    "print(\"\\nRavel (1D view):\\n\", ravel)"
   ]
  },
  {
   "cell_type": "code",
   "execution_count": 7,
   "id": "bce2a605",
   "metadata": {},
   "outputs": [
    {
     "name": "stdout",
     "output_type": "stream",
     "text": [
      "\n",
      "Transposed:\n",
      " [[1 4]\n",
      " [2 5]\n",
      " [3 6]]\n"
     ]
    }
   ],
   "source": [
    "# 4. Transpose\n",
    "trans = arr.T\n",
    "print(\"\\nTransposed:\\n\", trans)"
   ]
  },
  {
   "cell_type": "code",
   "execution_count": 8,
   "id": "93883acb",
   "metadata": {},
   "outputs": [
    {
     "name": "stdout",
     "output_type": "stream",
     "text": [
      "\n",
      "Expanded dims at axis 0:\n",
      " [[[1 2 3]\n",
      "  [4 5 6]]] \n",
      "Shape: (1, 2, 3)\n"
     ]
    }
   ],
   "source": [
    "# 5. Expand dimensions (add new axis at position 0)\n",
    "expanded = np.expand_dims(arr, axis=0)\n",
    "print(\"\\nExpanded dims at axis 0:\\n\", expanded, \"\\nShape:\", expanded.shape)"
   ]
  },
  {
   "cell_type": "code",
   "execution_count": 9,
   "id": "974152a4",
   "metadata": {},
   "outputs": [
    {
     "name": "stdout",
     "output_type": "stream",
     "text": [
      "\n",
      "Squeezed:\n",
      " [[1 2 3]\n",
      " [4 5 6]] \n",
      "Shape: (2, 3)\n"
     ]
    }
   ],
   "source": [
    "# 6. Squeeze (remove axes with size=1)\n",
    "squeezed = np.squeeze(expanded)\n",
    "print(\"\\nSqueezed:\\n\", squeezed, \"\\nShape:\", squeezed.shape)"
   ]
  },
  {
   "cell_type": "markdown",
   "id": "0a7d57db",
   "metadata": {},
   "source": [
    "# Operations"
   ]
  },
  {
   "cell_type": "code",
   "execution_count": 13,
   "id": "bf45de69",
   "metadata": {},
   "outputs": [
    {
     "name": "stdout",
     "output_type": "stream",
     "text": [
      "[10 20 30]  \n",
      "  [2 5 3]\n"
     ]
    }
   ],
   "source": [
    "import numpy as np\n",
    "\n",
    "a = np.array([10, 20, 30])\n",
    "b = np.array([2, 5, 3])\n",
    "\n",
    "\n",
    "print(a, \" \\n \", b)"
   ]
  },
  {
   "cell_type": "code",
   "execution_count": 14,
   "id": "2404383c",
   "metadata": {},
   "outputs": [
    {
     "name": "stdout",
     "output_type": "stream",
     "text": [
      "Addition: [12 25 33]\n"
     ]
    }
   ],
   "source": [
    "\n",
    "# Addition\n",
    "print(\"Addition:\", a + b)       # [12 25 33]\n"
   ]
  },
  {
   "cell_type": "code",
   "execution_count": 15,
   "id": "88ad7eca",
   "metadata": {},
   "outputs": [
    {
     "name": "stdout",
     "output_type": "stream",
     "text": [
      "Subtraction: [ 8 15 27]\n"
     ]
    }
   ],
   "source": [
    "# Subtraction\n",
    "print(\"Subtraction:\", a - b)    # [ 8 15 27]"
   ]
  },
  {
   "cell_type": "code",
   "execution_count": 16,
   "id": "9484ce51",
   "metadata": {},
   "outputs": [
    {
     "name": "stdout",
     "output_type": "stream",
     "text": [
      "Multiplication: [ 20 100  90]\n"
     ]
    }
   ],
   "source": [
    "# Multiplication\n",
    "print(\"Multiplication:\", a * b) # [20 100 90]"
   ]
  },
  {
   "cell_type": "code",
   "execution_count": 17,
   "id": "1336bd79",
   "metadata": {},
   "outputs": [
    {
     "name": "stdout",
     "output_type": "stream",
     "text": [
      "Division: [ 5.  4. 10.]\n"
     ]
    }
   ],
   "source": [
    "\n",
    "# Division\n",
    "print(\"Division:\", a / b)       # [5. 4. 10.]"
   ]
  },
  {
   "cell_type": "code",
   "execution_count": 18,
   "id": "9e1a813b",
   "metadata": {},
   "outputs": [
    {
     "name": "stdout",
     "output_type": "stream",
     "text": [
      "Modulus: [0 0 0]\n"
     ]
    }
   ],
   "source": [
    "# Modulus\n",
    "print(\"Modulus:\", a % b)        # [0 0 0]"
   ]
  },
  {
   "cell_type": "code",
   "execution_count": 19,
   "id": "d5a923fa",
   "metadata": {},
   "outputs": [
    {
     "name": "stdout",
     "output_type": "stream",
     "text": [
      "Exponentiation: [    100 3200000   27000]\n"
     ]
    }
   ],
   "source": [
    "# Exponentiation\n",
    "print(\"Exponentiation:\", a ** b)  # [  100 3200000 27000]"
   ]
  },
  {
   "cell_type": "code",
   "execution_count": null,
   "id": "995c2d87",
   "metadata": {},
   "outputs": [],
   "source": []
  }
 ],
 "metadata": {
  "kernelspec": {
   "display_name": "Python 3 (ipykernel)",
   "language": "python",
   "name": "python3"
  },
  "language_info": {
   "codemirror_mode": {
    "name": "ipython",
    "version": 3
   },
   "file_extension": ".py",
   "mimetype": "text/x-python",
   "name": "python",
   "nbconvert_exporter": "python",
   "pygments_lexer": "ipython3",
   "version": "3.9.12"
  }
 },
 "nbformat": 4,
 "nbformat_minor": 5
}
