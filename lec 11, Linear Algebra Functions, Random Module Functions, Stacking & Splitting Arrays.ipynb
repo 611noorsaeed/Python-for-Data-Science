{
 "cells": [
  {
   "cell_type": "markdown",
   "id": "3fd51fdb",
   "metadata": {},
   "source": [
    "###### Linear Algebra Functions\n",
    "\n",
    "###### Random Module Functions\n",
    "\n",
    "###### Stacking & Splitting Arrays"
   ]
  },
  {
   "cell_type": "markdown",
   "id": "875135e6",
   "metadata": {},
   "source": [
    "# 1 Linear Algebra Functions\n",
    "\n",
    "Explanation:\n",
    "\n",
    "np.linalg.inv(A): Computes the inverse of matrix A.\n",
    "\n",
    "np.linalg.det(A): Calculates the determinant of A.\n",
    "\n",
    "np.linalg.eig(A): Returns the eigenvalues and right eigenvectors of A.\n",
    "\n",
    "np.linalg.norm(A): Computes the Frobenius norm of A.\n",
    "\n",
    "np.trace(A): Calculates the sum of the diagonal elements of A.\n",
    "\n",
    "np.linalg.solve(A, b): Solves the linear system Ax = b for x."
   ]
  },
  {
   "cell_type": "code",
   "execution_count": 65,
   "id": "471e4ff2",
   "metadata": {},
   "outputs": [
    {
     "name": "stdout",
     "output_type": "stream",
     "text": [
      "Inverse of A:\n",
      " [[ 0.6 -0.7]\n",
      " [-0.2  0.4]]\n"
     ]
    }
   ],
   "source": [
    "import numpy as np\n",
    "\n",
    "# Define a 2x2 matrix\n",
    "A = np.array([[4, 7],\n",
    "              [2, 6]])\n",
    "\n",
    "# Inverse of A\n",
    "A_inv = np.linalg.inv(A)\n",
    "print(\"Inverse of A:\\n\", A_inv)"
   ]
  },
  {
   "cell_type": "code",
   "execution_count": 56,
   "id": "070875df",
   "metadata": {},
   "outputs": [
    {
     "name": "stdout",
     "output_type": "stream",
     "text": [
      "[[4 7]\n",
      " [2 6]]\n",
      "Determinant of A: 10.000000000000002\n"
     ]
    }
   ],
   "source": [
    "# Determinant of A\n",
    "A_det = np.linalg.det(A)\n",
    "print(A)\n",
    "print(\"Determinant of A:\", A_det)"
   ]
  },
  {
   "cell_type": "code",
   "execution_count": 57,
   "id": "4f6c3fe5",
   "metadata": {},
   "outputs": [
    {
     "name": "stdout",
     "output_type": "stream",
     "text": [
      "[[4 7]\n",
      " [2 6]]\n",
      "Eigenvalues: [1.12701665 8.87298335]\n",
      "Eigenvectors:\n",
      " [[-0.92511345 -0.82071729]\n",
      " [ 0.37969079 -0.57133452]]\n"
     ]
    }
   ],
   "source": [
    "# Eigenvalues and eigenvectors of A\n",
    "eigenvalues, eigenvectors = np.linalg.eig(A)\n",
    "\n",
    "print(A)\n",
    "print(\"Eigenvalues:\", eigenvalues)\n",
    "print(\"Eigenvectors:\\n\", eigenvectors)"
   ]
  },
  {
   "cell_type": "code",
   "execution_count": 58,
   "id": "f72c9140",
   "metadata": {},
   "outputs": [
    {
     "name": "stdout",
     "output_type": "stream",
     "text": [
      "[[4 7]\n",
      " [2 6]]\n",
      "Norm of A: 10.246950765959598\n"
     ]
    }
   ],
   "source": [
    "# Norm of A (Frobenius norm)\n",
    "A_norm = np.linalg.norm(A)\n",
    "print(A)\n",
    "print(\"Norm of A:\", A_norm)"
   ]
  },
  {
   "cell_type": "code",
   "execution_count": 63,
   "id": "cc8c16e2",
   "metadata": {},
   "outputs": [
    {
     "name": "stdout",
     "output_type": "stream",
     "text": [
      "[[ 1  2  3  4 20]\n",
      " [10 20 30 40 20]\n",
      " [10 20 30 40 20]\n",
      " [10 20 30 40 20]\n",
      " [10 20 30 40 20]]\n",
      "Trace of A: 111\n"
     ]
    }
   ],
   "source": [
    "# Trace of A (sum of diagonal elements)\n",
    "A = np.array([[1,2,3,4,20],[10,20,30,40,20],[10,20,30,40,20],[10,20,30,40,20],[10,20,30,40,20]])\n",
    "A_trace = np.trace(A)\n",
    "print(A)\n",
    "print(\"Trace of A:\", A_trace)"
   ]
  },
  {
   "cell_type": "code",
   "execution_count": 66,
   "id": "e8e51170",
   "metadata": {},
   "outputs": [
    {
     "name": "stdout",
     "output_type": "stream",
     "text": [
      "[[4 7]\n",
      " [2 6]]\n",
      "[1 0]\n",
      "Solution x: [ 0.6 -0.2]\n"
     ]
    }
   ],
   "source": [
    "# Solve linear system Ax = b\n",
    "b = np.array([1, 0])\n",
    "\n",
    "print(A)\n",
    "print(b)\n",
    "x = np.linalg.solve(A, b)\n",
    "print(\"Solution x:\", x)"
   ]
  },
  {
   "cell_type": "markdown",
   "id": "9bc9b764",
   "metadata": {},
   "source": [
    "# 2 Random Module Functions\n",
    "\n",
    "Explanation:\n",
    "\n",
    "np.random.seed(42): Sets the seed for random number generation to ensure reproducibility.\n",
    "\n",
    "np.random.rand(3, 2): Generates a 3x2 array of random floats in the half-open interval [0.0, 1.0).\n",
    "\n",
    "np.random.randn(3, 2): Generates a 3x2 array of samples from the standard normal distribution.\n",
    "\n",
    "np.random.randint(0, 10, size=(3, 2)): Generates a 3x2 array of random integers between 0 and 9.\n",
    "\n",
    "np.random.choice(...): Randomly selects elements from the given list.\n",
    "\n",
    "np.random.shuffle(arr): Shuffles the array arr in-place.\n"
   ]
  },
  {
   "cell_type": "code",
   "execution_count": 40,
   "id": "b3326632",
   "metadata": {},
   "outputs": [
    {
     "name": "stdout",
     "output_type": "stream",
     "text": [
      "Random array:\n",
      " [[0.37454012 0.95071431 0.73199394]\n",
      " [0.59865848 0.15601864 0.15599452]\n",
      " [0.05808361 0.86617615 0.60111501]\n",
      " [0.70807258 0.02058449 0.96990985]]\n"
     ]
    }
   ],
   "source": [
    "import numpy as np\n",
    "\n",
    "# Set seed for reproducibility\n",
    "np.random.seed(42)\n",
    "\n",
    "# Random floats in [0.0, 1.0)\n",
    "rand_array = np.random.rand(4, 3)\n",
    "print(\"Random array:\\n\", rand_array)"
   ]
  },
  {
   "cell_type": "code",
   "execution_count": 41,
   "id": "cf7b540b",
   "metadata": {},
   "outputs": [
    {
     "name": "stdout",
     "output_type": "stream",
     "text": [
      "Random normal array:\n",
      " [[-0.46947439  0.54256004]\n",
      " [-0.46341769 -0.46572975]\n",
      " [ 0.24196227 -1.91328024]]\n"
     ]
    }
   ],
   "source": [
    "# Random samples from standard normal distribution\n",
    "randn_array = np.random.randn(3, 2)\n",
    "print(\"Random normal array:\\n\", randn_array)"
   ]
  },
  {
   "cell_type": "code",
   "execution_count": 44,
   "id": "65a06425",
   "metadata": {},
   "outputs": [
    {
     "name": "stdout",
     "output_type": "stream",
     "text": [
      "Random integers:\n",
      " [[14  6 11]\n",
      " [ 7 14  2]\n",
      " [13 16  3]\n",
      " [17  7  3]]\n"
     ]
    }
   ],
   "source": [
    "# Random integers between 0 (inclusive) and 10 (exclusive)\n",
    "randint_array = np.random.randint(0, 20, size=(4,3))\n",
    "print(\"Random integers:\\n\", randint_array)\n"
   ]
  },
  {
   "cell_type": "code",
   "execution_count": 47,
   "id": "0648f695",
   "metadata": {},
   "outputs": [
    {
     "name": "stdout",
     "output_type": "stream",
     "text": [
      "Random choices: ['banana' 'cherry' 'cherry']\n"
     ]
    }
   ],
   "source": [
    "# Random choice from a list\n",
    "choices = np.random.choice(['apple', 'banana', 'cherry'], size=3)\n",
    "print(\"Random choices:\", choices)"
   ]
  },
  {
   "cell_type": "code",
   "execution_count": 49,
   "id": "fc67cab7",
   "metadata": {},
   "outputs": [
    {
     "name": "stdout",
     "output_type": "stream",
     "text": [
      "Shuffled array: [2 1 8 9 4 5 0 3 6 7]\n"
     ]
    }
   ],
   "source": [
    "# Shuffle an array in-place\n",
    "arr = np.arange(10)\n",
    "\n",
    "np.random.shuffle(arr)\n",
    "print(\"Shuffled array:\", arr)"
   ]
  },
  {
   "cell_type": "markdown",
   "id": "32af66fe",
   "metadata": {},
   "source": [
    "# 3 Stacking & Splitting Arrays\n",
    "Explanation:\n",
    "\n",
    "np.vstack((a, b)): Stacks arrays vertically (row-wise).\n",
    "\n",
    "np.hstack((a, b)): Stacks arrays horizontally (column-wise).\n",
    "\n",
    "np.concatenate((a, b), axis=0): Concatenates arrays along the first axis (rows).\n",
    "\n",
    "np.concatenate((a, b), axis=1): Concatenates arrays along the second axis (columns).\n",
    "\n",
    "np.split(a, 2, axis=0): Splits array a into 2 equal parts along rows."
   ]
  },
  {
   "cell_type": "code",
   "execution_count": 52,
   "id": "28cf336d",
   "metadata": {},
   "outputs": [
    {
     "name": "stdout",
     "output_type": "stream",
     "text": [
      "[[1 2]\n",
      " [3 4]]\n",
      "[[5 6]\n",
      " [7 8]] \n",
      "\n",
      "Vertical Stack:\n",
      " [[1 2]\n",
      " [3 4]\n",
      " [5 6]\n",
      " [7 8]]\n",
      "Horizontal Stack:\n",
      " [[1 2 5 6]\n",
      " [3 4 7 8]]\n"
     ]
    }
   ],
   "source": [
    "import numpy as np\n",
    "\n",
    "# Define two arrays\n",
    "a = np.array([[1, 2],\n",
    "              [3, 4]])\n",
    "\n",
    "b = np.array([[5, 6],\n",
    "              [7, 8]])\n",
    "\n",
    "print(a)\n",
    "print(b, \"\\n\")\n",
    "\n",
    "\n",
    "# Vertical stacking\n",
    "v_stack = np.vstack((a, b))\n",
    "print(\"Vertical Stack:\\n\", v_stack)\n",
    "\n",
    "\n",
    "# Horizontal stacking\n",
    "h_stack = np.hstack((a, b))\n",
    "print(\"Horizontal Stack:\\n\", h_stack)"
   ]
  },
  {
   "cell_type": "code",
   "execution_count": 53,
   "id": "9ebd867c",
   "metadata": {},
   "outputs": [
    {
     "name": "stdout",
     "output_type": "stream",
     "text": [
      "Concatenate along axis 0:\n",
      " [[1 2]\n",
      " [3 4]\n",
      " [5 6]\n",
      " [7 8]]\n",
      "Concatenate along axis 1:\n",
      " [[1 2 5 6]\n",
      " [3 4 7 8]]\n"
     ]
    }
   ],
   "source": [
    "# Concatenate along the first axis (rows)\n",
    "concat_axis0 = np.concatenate((a, b), axis=0)\n",
    "print(\"Concatenate along axis 0:\\n\", concat_axis0)\n",
    "\n",
    "# Concatenate along the second axis (columns)\n",
    "concat_axis1 = np.concatenate((a, b), axis=1)\n",
    "print(\"Concatenate along axis 1:\\n\", concat_axis1)"
   ]
  },
  {
   "cell_type": "code",
   "execution_count": 54,
   "id": "e7b6decf",
   "metadata": {},
   "outputs": [
    {
     "data": {
      "text/plain": [
       "[array([[1, 2, 3]]), array([[3, 5, 6]])]"
      ]
     },
     "execution_count": 54,
     "metadata": {},
     "output_type": "execute_result"
    }
   ],
   "source": [
    "# Split array into two equal parts along rows\n",
    "a = np.array([[1,2,3],[3,5,6]])\n",
    "\n",
    "np.split(a,2,axis=0)"
   ]
  },
  {
   "cell_type": "code",
   "execution_count": null,
   "id": "5f432c90",
   "metadata": {},
   "outputs": [],
   "source": []
  }
 ],
 "metadata": {
  "kernelspec": {
   "display_name": "Python 3 (ipykernel)",
   "language": "python",
   "name": "python3"
  },
  "language_info": {
   "codemirror_mode": {
    "name": "ipython",
    "version": 3
   },
   "file_extension": ".py",
   "mimetype": "text/x-python",
   "name": "python",
   "nbconvert_exporter": "python",
   "pygments_lexer": "ipython3",
   "version": "3.9.12"
  }
 },
 "nbformat": 4,
 "nbformat_minor": 5
}
