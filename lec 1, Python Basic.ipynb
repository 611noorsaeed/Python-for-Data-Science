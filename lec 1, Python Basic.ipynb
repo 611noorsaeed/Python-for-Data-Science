{
 "cells": [
  {
   "cell_type": "markdown",
   "id": "3135e8fd",
   "metadata": {},
   "source": [
    "# Python Basic \n",
    "\n",
    "\n",
    "## Introduction to Python Programming and Data Structures\n",
    "\n",
    "In this notebook, we will explore the basic concepts of Python programming, focusing on variables, data types, and common data structures. Python provides a rich set of built-in data types and data structures, which are essential for a variety of tasks in programming, especially in data science and machine learning.\n",
    "\n",
    "We'll start by introducing the following key concepts:\n",
    "\n",
    "\n",
    "## What You Are Going to Learn in This Notebook\n",
    "\n",
    "In this notebook, you'll explore the core concepts of Python programming, including the following topics:\n",
    "\n",
    "\n",
    "#### Print and Input Statements: \n",
    "\n",
    "Learn how to display information and take user inputs in your program.\n",
    "\n",
    "\n",
    "#### Variables and Data Types:\n",
    "\n",
    "Understand how to use variables and the various data types available in Python like integers, floats, strings, and booleans.\n",
    "\n",
    "\n",
    "#### Data Structures: \n",
    "\n",
    "Get familiar with important data structures such as lists, tuples, sets, and dictionaries. Learn their characteristics and key operations.\n",
    "\n",
    "\n",
    "#### List Operations and Methods:\n",
    "\n",
    "Dive deep into the methods available for lists, including adding, removing, sorting, and accessing elements.\n",
    "\n",
    "\n",
    "#### Tuple Operations and Methods: \n",
    "\n",
    "Learn about immutable tuples and how to use their methods.\n",
    "\n",
    "\n",
    "#### Set Operations and Methods: \n",
    "\n",
    "Understand sets and their operations, including adding, removing, and updating elements.\n",
    "\n",
    "\n",
    "#### Dictionary Operations and Methods:\n",
    "\n",
    "Discover dictionaries and how to work with key-value pairs, including how to add, remove, and access dictionary elements.\n",
    "\n",
    "\n",
    "By the end of this notebook, you'll have a solid understanding of these fundamental Python topics, giving you the tools you need to handle data, create efficient programs, and tackle various tasks in machine learning and data science."
   ]
  },
  {
   "cell_type": "markdown",
   "id": "8ff7138f",
   "metadata": {},
   "source": [
    "# Tut 0: Print and Input Statement"
   ]
  },
  {
   "cell_type": "code",
   "execution_count": 1,
   "id": "4272e476",
   "metadata": {},
   "outputs": [
    {
     "name": "stdout",
     "output_type": "stream",
     "text": [
      "Hello, World!\n"
     ]
    }
   ],
   "source": [
    "print(\"Hello, World!\")  "
   ]
  },
  {
   "cell_type": "code",
   "execution_count": 59,
   "id": "a4e5d600",
   "metadata": {},
   "outputs": [
    {
     "name": "stdout",
     "output_type": "stream",
     "text": [
      "My name is Noor and I am 25 years old.\n"
     ]
    }
   ],
   "source": [
    "name = \"Noor\"  \n",
    "age = 25  \n",
    "print(\"My name is\", name, \"and I am\", age, \"years old.\")  "
   ]
  },
  {
   "cell_type": "code",
   "execution_count": 60,
   "id": "da0e4e24",
   "metadata": {},
   "outputs": [
    {
     "name": "stdout",
     "output_type": "stream",
     "text": [
      "My name is Noor and I am 25 years old.\n"
     ]
    }
   ],
   "source": [
    "#  Formatted Strings (f-strings)\n",
    "name = \"Noor\"  \n",
    "age = 25  \n",
    "print(f\"My name is {name} and I am {age} years old.\")  "
   ]
  },
  {
   "cell_type": "code",
   "execution_count": 62,
   "id": "14f3385a",
   "metadata": {},
   "outputs": [
    {
     "name": "stdout",
     "output_type": "stream",
     "text": [
      "AI With Noor\n"
     ]
    }
   ],
   "source": [
    "# String Concatenation\n",
    "first_name = \"AI\"\n",
    "middle_name = \"With\"\n",
    "last_name = \"Noor\"  \n",
    "print(first_name + \" \" + middle_name + \" \" + last_name)  "
   ]
  },
  {
   "cell_type": "code",
   "execution_count": 65,
   "id": "515e81de",
   "metadata": {},
   "outputs": [
    {
     "name": "stdout",
     "output_type": "stream",
     "text": [
      "Hello \t World\n"
     ]
    }
   ],
   "source": [
    "# Escape Characters (\\n, \\t, \\\\, \\\", \\')\n",
    "print(\"Hello \\t World\")  # New Line  "
   ]
  },
  {
   "cell_type": "code",
   "execution_count": 66,
   "id": "bcac8013",
   "metadata": {},
   "outputs": [
    {
     "name": "stdout",
     "output_type": "stream",
     "text": [
      "Hello\tWorld\n"
     ]
    }
   ],
   "source": [
    "print(\"Hello\\tWorld\")  # Tab Space  \n"
   ]
  },
  {
   "cell_type": "code",
   "execution_count": 67,
   "id": "ba0c2b7b",
   "metadata": {},
   "outputs": [
    {
     "name": "stdout",
     "output_type": "stream",
     "text": [
      "She said, \"Python is amazing!\"\n"
     ]
    }
   ],
   "source": [
    "print(\"She said, \\\"Python is amazing!\\\"\")  # Double Quotes inside String  "
   ]
  },
  {
   "cell_type": "code",
   "execution_count": 72,
   "id": "c6a652f4",
   "metadata": {},
   "outputs": [
    {
     "name": "stdout",
     "output_type": "stream",
     "text": [
      "It's a sunny day\n"
     ]
    }
   ],
   "source": [
    "print('It\\'s a sunny day')  # Single Quote inside String  "
   ]
  },
  {
   "cell_type": "code",
   "execution_count": 78,
   "id": "f9cd1630",
   "metadata": {},
   "outputs": [
    {
     "name": "stdout",
     "output_type": "stream",
     "text": [
      "AI | Data Science | Machine Learning\n"
     ]
    }
   ],
   "source": [
    "# Custom Separator (sep Argument)\n",
    "print(\"AI\", \"Data Science\", \"Machine Learning\", sep=\" | \")  "
   ]
  },
  {
   "cell_type": "code",
   "execution_count": 82,
   "id": "8f01ba6a",
   "metadata": {},
   "outputs": [
    {
     "name": "stdout",
     "output_type": "stream",
     "text": [
      "Hello World! noor\n"
     ]
    }
   ],
   "source": [
    "# Custom End (end Argument)\n",
    "print(\"Hello\",end=\" \")  \n",
    "print(\"World!\",end=' ') \n",
    "print(\"noor\")"
   ]
  },
  {
   "cell_type": "markdown",
   "id": "60099a8c",
   "metadata": {},
   "source": [
    "# input() Function"
   ]
  },
  {
   "cell_type": "code",
   "execution_count": 86,
   "id": "e62c0eb9",
   "metadata": {},
   "outputs": [
    {
     "name": "stdout",
     "output_type": "stream",
     "text": [
      "Enter your name: 20\n"
     ]
    }
   ],
   "source": [
    "name = input(\"Enter your name: \")  "
   ]
  },
  {
   "cell_type": "code",
   "execution_count": 87,
   "id": "2335e2be",
   "metadata": {},
   "outputs": [
    {
     "name": "stdout",
     "output_type": "stream",
     "text": [
      "Hello, <class 'str'>\n"
     ]
    }
   ],
   "source": [
    "print(\"Hello,\", type(name))  "
   ]
  },
  {
   "cell_type": "code",
   "execution_count": 89,
   "id": "12bc7fa6",
   "metadata": {},
   "outputs": [
    {
     "name": "stdout",
     "output_type": "stream",
     "text": [
      "Enter your age: 10\n",
      "Enter your height in meters: 3.0\n",
      "You are 10 years old and 3.0 meters tall.\n",
      "<class 'int'> <class 'float'>\n"
     ]
    }
   ],
   "source": [
    "# different types input\n",
    "age = int(input(\"Enter your age: \"))  \n",
    "height = float(input(\"Enter your height in meters: \"))  \n",
    "print(f\"You are {age} years old and {height} meters tall.\")\n",
    "print(type(age), type(height))"
   ]
  },
  {
   "cell_type": "code",
   "execution_count": 94,
   "id": "cfd4f92e",
   "metadata": {},
   "outputs": [
    {
     "name": "stdout",
     "output_type": "stream",
     "text": [
      "Enter your name and age: noor 20\n",
      "Name: noor, Age: 20\n"
     ]
    }
   ],
   "source": [
    "# Multiple Inputs \n",
    "name, age = input(\"Enter your name and age: \").split()  \n",
    "print(f\"Name: {name}, Age: {age}\")"
   ]
  },
  {
   "cell_type": "markdown",
   "id": "49febba8",
   "metadata": {},
   "source": [
    "#  Variables and Data Types in Python"
   ]
  },
  {
   "cell_type": "code",
   "execution_count": 95,
   "id": "832492f4",
   "metadata": {},
   "outputs": [
    {
     "name": "stdout",
     "output_type": "stream",
     "text": [
      "Age: 25\n",
      "Type of age: <class 'int'>\n",
      "Height: 5.9\n",
      "Type of height: <class 'float'>\n",
      "Name: Alice\n",
      "Type of name: <class 'str'>\n",
      "Is Student: True\n",
      "Type of is_student: <class 'bool'>\n"
     ]
    }
   ],
   "source": [
    "# 1. Integer\n",
    "age = 25\n",
    "print(\"Age:\", age)\n",
    "print(\"Type of age:\", type(age))\n",
    "\n",
    "# 2. Float\n",
    "height = 5.9\n",
    "print(\"Height:\", height)\n",
    "print(\"Type of height:\", type(height))\n",
    "\n",
    "# 3. String\n",
    "name = \"Alice\"\n",
    "print(\"Name:\", name)\n",
    "print(\"Type of name:\", type(name))\n",
    "\n",
    "# 4. Boolean\n",
    "is_student = True\n",
    "print(\"Is Student:\", is_student)\n",
    "print(\"Type of is_student:\", type(is_student))"
   ]
  },
  {
   "cell_type": "markdown",
   "id": "b60a4d79",
   "metadata": {},
   "source": [
    "# Data Structures"
   ]
  },
  {
   "cell_type": "markdown",
   "id": "f5494d76",
   "metadata": {},
   "source": [
    "### List and its methods"
   ]
  },
  {
   "cell_type": "code",
   "execution_count": 52,
   "id": "784406de",
   "metadata": {},
   "outputs": [
    {
     "name": "stdout",
     "output_type": "stream",
     "text": [
      "Fruits: ['apple', 'banana', 'cherry']\n",
      "Type of fruits: <class 'list'>\n"
     ]
    }
   ],
   "source": [
    "# 5. List (ordered, mutable)\n",
    "fruits = [\"apple\", \"banana\", \"cherry\"]\n",
    "\n",
    "print(\"Fruits:\", fruits)\n",
    "print(\"Type of fruits:\", type(fruits))"
   ]
  },
  {
   "cell_type": "code",
   "execution_count": 96,
   "id": "4c9ac865",
   "metadata": {},
   "outputs": [
    {
     "name": "stdout",
     "output_type": "stream",
     "text": [
      "After append: ['apple', 'banana', 'cherry', 'mango']\n",
      "After insert: ['orange', 'apple', 'banana', 'cherry', 'mango']\n"
     ]
    }
   ],
   "source": [
    "# Define the list\n",
    "fruits = [\"apple\", \"banana\", \"cherry\"]\n",
    "# Add \"mango\" to the end of the list\n",
    "fruits.append(\"mango\")\n",
    "print(\"After append:\", fruits)\n",
    "# Insert \"orange\" at index 1\n",
    "fruits.insert(0, \"orange\")\n",
    "print(\"After insert:\", fruits)"
   ]
  },
  {
   "cell_type": "code",
   "execution_count": 99,
   "id": "475416d5",
   "metadata": {},
   "outputs": [
    {
     "name": "stdout",
     "output_type": "stream",
     "text": [
      "Index of 'apple': 0\n"
     ]
    }
   ],
   "source": [
    "fruits = [\"apple\", \"banana\", \"cherry\"]\n",
    "\n",
    "# Remove \"banana\" from the list\n",
    "# fruits.remove(\"banana\")\n",
    "# print(\"After remove:\", fruits)\n",
    "# # Remove and return the last item\n",
    "# print(\"After pop (removed item):\", fruits.pop())\n",
    "# # Get the index of \"apple\"\n",
    "# print(\"Index of 'apple':\",  fruits.index(\"apple\"))\n",
    "\n",
    "print(\"Index of 'apple':\",  fruits.index(\"apple\"))\n"
   ]
  },
  {
   "cell_type": "code",
   "execution_count": 100,
   "id": "a7f41849",
   "metadata": {},
   "outputs": [
    {
     "name": "stdout",
     "output_type": "stream",
     "text": [
      "After sort: [1, 2, 3, 4, 5]\n",
      "After reverse: [5, 4, 3, 2, 1]\n",
      "Length of the list: 5\n"
     ]
    }
   ],
   "source": [
    "fruits = [3,2,1,4,5]\n",
    "# [1,2,3,4,5]\n",
    "\n",
    "# Sort the list\n",
    "fruits.sort()\n",
    "print(\"After sort:\", fruits)\n",
    "\n",
    "# Reverse the list\n",
    "fruits.reverse()\n",
    "print(\"After reverse:\", fruits)\n",
    "\n",
    "# Get the length of the list\n",
    "length = len(fruits)\n",
    "print(\"Length of the list:\", length)"
   ]
  },
  {
   "cell_type": "markdown",
   "id": "f9425267",
   "metadata": {},
   "source": [
    "### Tuple and its methods"
   ]
  },
  {
   "cell_type": "code",
   "execution_count": 101,
   "id": "fb560c58",
   "metadata": {},
   "outputs": [
    {
     "name": "stdout",
     "output_type": "stream",
     "text": [
      "Colors: ('red', 'green', 'blue', 'red')\n",
      "Type of colors: <class 'tuple'>\n",
      "len  4\n",
      "index  1\n",
      "count single word  2\n"
     ]
    }
   ],
   "source": [
    "# 6. Tuple (ordered, immutable)\n",
    "colors = (\"red\", \"green\", \"blue\",\"red\")\n",
    "print(\"Colors:\", colors)\n",
    "print(\"Type of colors:\", type(colors))\n",
    "\n",
    "\n",
    "print(\"len \",len(colors))          # Get length\n",
    "print(\"index \", colors.index(\"green\"))  # Get index\n",
    "print(\"count single word \", colors.count(\"red\"))    # Count occurrences"
   ]
  },
  {
   "cell_type": "markdown",
   "id": "fad93c48",
   "metadata": {},
   "source": [
    "### Set "
   ]
  },
  {
   "cell_type": "code",
   "execution_count": 27,
   "id": "cdb38177",
   "metadata": {},
   "outputs": [
    {
     "name": "stdout",
     "output_type": "stream",
     "text": [
      "Unique numbers: {1, 2, 3}\n",
      "Type of unique_numbers: <class 'set'>\n"
     ]
    }
   ],
   "source": [
    "# 7. Set (unordered, no duplicates)\n",
    "unique_numbers = {1, 2, 3, 3}\n",
    "print(\"Unique numbers:\", unique_numbers)\n",
    "print(\"Type of unique_numbers:\", type(unique_numbers))"
   ]
  },
  {
   "cell_type": "code",
   "execution_count": 102,
   "id": "ad820421",
   "metadata": {},
   "outputs": [
    {
     "name": "stdout",
     "output_type": "stream",
     "text": [
      "Original set: {1, 2, 3}\n",
      "After adding 4: {1, 2, 3, 4}\n",
      "After removing 2: {1, 3, 4}\n"
     ]
    }
   ],
   "source": [
    "# Initialize set\n",
    "unique_numbers = {1, 2, 3, 3}\n",
    "print(\"Original set:\", unique_numbers)\n",
    "# Add item\n",
    "unique_numbers.add(4)\n",
    "print(\"After adding 4:\", unique_numbers)\n",
    "# Remove item (error if not found)\n",
    "unique_numbers.remove(2)  \n",
    "print(\"After removing 2:\", unique_numbers)"
   ]
  },
  {
   "cell_type": "code",
   "execution_count": 103,
   "id": "a64e1b72",
   "metadata": {},
   "outputs": [
    {
     "name": "stdout",
     "output_type": "stream",
     "text": [
      "After discarding 5 (not in set): {1, 3, 4}\n",
      "After updating with [5, 6]: {1, 3, 4, 5, 6}\n",
      "After clearing the set: set()\n"
     ]
    }
   ],
   "source": [
    "# Discard item (no error if not found)\n",
    "unique_numbers.discard(5)\n",
    "print(\"After discarding 5 (not in set):\", unique_numbers)\n",
    "# Add multiple items\n",
    "unique_numbers.update([5, 6])\n",
    "print(\"After updating with [5, 6]:\", unique_numbers)\n",
    "# Empty the set\n",
    "unique_numbers.clear()\n",
    "print(\"After clearing the set:\", unique_numbers)"
   ]
  },
  {
   "cell_type": "markdown",
   "id": "757c7422",
   "metadata": {},
   "source": [
    "### Dictionary and its methods"
   ]
  },
  {
   "cell_type": "code",
   "execution_count": 105,
   "id": "e945c89f",
   "metadata": {},
   "outputs": [
    {
     "data": {
      "text/plain": [
       "{'names': ['ali', 'jhon', 'noor'], 'age': [30, 35, 30]}"
      ]
     },
     "execution_count": 105,
     "metadata": {},
     "output_type": "execute_result"
    }
   ],
   "source": [
    "names = {\n",
    "    \"names\": ['ali','jhon','noor'],\n",
    "    \"age\": [30, 35, 30],\n",
    "}\n",
    "names"
   ]
  },
  {
   "cell_type": "code",
   "execution_count": 30,
   "id": "07f65db5",
   "metadata": {},
   "outputs": [
    {
     "name": "stdout",
     "output_type": "stream",
     "text": [
      "Student: {'name': 'Bob', 'age': 22, 'is_graduated': False}\n",
      "Type of student: <class 'dict'>\n"
     ]
    }
   ],
   "source": [
    "# 8. Dictionary (key-value pairs)\n",
    "student = {\n",
    "    \"name\": \"Bob\",\n",
    "    \"age\": 22,\n",
    "    \"is_graduated\": False\n",
    "}\n",
    "print(\"Student:\", student)\n",
    "print(\"Type of student:\", type(student))"
   ]
  },
  {
   "cell_type": "code",
   "execution_count": 106,
   "id": "34a706b6",
   "metadata": {},
   "outputs": [
    {
     "name": "stdout",
     "output_type": "stream",
     "text": [
      "Name: Bob\n",
      "Age (with get): 22\n",
      "After adding/updating degree: {'name': 'Bob', 'age': 22, 'is_graduated': False, 'degree': 'Computer Science'}\n"
     ]
    }
   ],
   "source": [
    "student = {\n",
    "    \"name\": \"Bob\",\n",
    "    \"age\": 22,\n",
    "    \"is_graduated\": False\n",
    "\n",
    "}\n",
    "\n",
    "# Access value by key\n",
    "print(\"Name:\", student[\"name\"])\n",
    "\n",
    "# Get value by key (with default if key doesn't exist)\n",
    "print(\"Age (with get):\", student.get(\"age\"))\n",
    "\n",
    "# Add or update a key-value pair\n",
    "student[\"degree\"] = \"Computer Science\"\n",
    "print(\"After adding/updating degree:\", student)"
   ]
  },
  {
   "cell_type": "code",
   "execution_count": 107,
   "id": "4c2dd1bf",
   "metadata": {},
   "outputs": [
    {
     "name": "stdout",
     "output_type": "stream",
     "text": [
      "After removing 'age' key: 22\n",
      "final dic  {'name': 'Bob', 'is_graduated': False}\n"
     ]
    }
   ],
   "source": [
    "student = {\n",
    "    \"name\": \"Bob\",\n",
    "    \"age\": 22,\n",
    "    \"is_graduated\": False\n",
    "}\n",
    "\n",
    "\n",
    "\n",
    "# Remove a key-value pair (raises error if key doesn't exist)\n",
    "print(\"After removing 'age' key:\", student.pop(\"age\"))\n",
    "print(\"final dic \", student)"
   ]
  },
  {
   "cell_type": "code",
   "execution_count": 108,
   "id": "e8b6d853",
   "metadata": {},
   "outputs": [
    {
     "name": "stdout",
     "output_type": "stream",
     "text": [
      "Is 'name' a key in the dictionary? True\n",
      "Is 'degree' a key in the dictionary? False\n"
     ]
    }
   ],
   "source": [
    "student = {\n",
    "    \"name\": \"Bob\",\n",
    "    \"age\": 22,\n",
    "    \"is_graduated\": False\n",
    "}\n",
    "\n",
    "\n",
    "# Check if a key exists\n",
    "print(\"Is 'name' a key in the dictionary?\", \"name\" in student)\n",
    "print(\"Is 'degree' a key in the dictionary?\", \"degree\" in student)"
   ]
  },
  {
   "cell_type": "code",
   "execution_count": 109,
   "id": "acc1446c",
   "metadata": {},
   "outputs": [
    {
     "name": "stdout",
     "output_type": "stream",
     "text": [
      "All keys: dict_keys(['name', 'age', 'is_graduated'])\n",
      "All values: dict_values(['Bob', 22, False])\n",
      "All items: dict_items([('name', 'Bob'), ('age', 22), ('is_graduated', False)])\n"
     ]
    }
   ],
   "source": [
    "student = {\n",
    "    \"name\": \"Bob\",\n",
    "    \"age\": 22,\n",
    "    \"is_graduated\": False\n",
    "}\n",
    "\n",
    "# Get all keys\n",
    "print(\"All keys:\", student.keys())\n",
    "# Get all values\n",
    "print(\"All values:\", student.values())\n",
    "# Get all key-value pairs (as tuples)\n",
    "print(\"All items:\", student.items())"
   ]
  },
  {
   "cell_type": "code",
   "execution_count": 50,
   "id": "fe846536",
   "metadata": {},
   "outputs": [
    {
     "name": "stdout",
     "output_type": "stream",
     "text": [
      "After updating with another dictionary: {'name': 'Bob', 'age': 23, 'is_graduated': False, 'city': 'New York'}\n"
     ]
    }
   ],
   "source": [
    "student = {\n",
    "    \"name\": \"Bob\",\n",
    "    \"age\": 22,\n",
    "    \"is_graduated\": False\n",
    "}    \n",
    "# Update dictionary with another dictionary\n",
    "additional_info = {\"city\": \"New York\", \"age\": 23}  # Age will overwrite\n",
    "student.update(additional_info)\n",
    "print(\"After updating with another dictionary:\", student)"
   ]
  },
  {
   "cell_type": "code",
   "execution_count": 51,
   "id": "1787942d",
   "metadata": {},
   "outputs": [
    {
     "name": "stdout",
     "output_type": "stream",
     "text": [
      "After clearing the dictionary: {}\n"
     ]
    }
   ],
   "source": [
    "student = {\n",
    "    \"name\": \"Bob\",\n",
    "    \"age\": 22,\n",
    "    \"is_graduated\": False\n",
    "}\n",
    "# Clear all items in the dictionary\n",
    "student.clear()\n",
    "print(\"After clearing the dictionary:\", student)"
   ]
  },
  {
   "cell_type": "code",
   "execution_count": null,
   "id": "f9287a04",
   "metadata": {},
   "outputs": [],
   "source": []
  }
 ],
 "metadata": {
  "kernelspec": {
   "display_name": "Python 3 (ipykernel)",
   "language": "python",
   "name": "python3"
  },
  "language_info": {
   "codemirror_mode": {
    "name": "ipython",
    "version": 3
   },
   "file_extension": ".py",
   "mimetype": "text/x-python",
   "name": "python",
   "nbconvert_exporter": "python",
   "pygments_lexer": "ipython3",
   "version": "3.9.12"
  }
 },
 "nbformat": 4,
 "nbformat_minor": 5
}
