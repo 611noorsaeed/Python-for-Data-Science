{
 "cells": [
  {
   "cell_type": "markdown",
   "id": "bcbe30be",
   "metadata": {},
   "source": [
    "# 1. Creating Arrays with array, arange, linspace, zeros, ones, full, eye\n",
    "\n",
    "\n",
    "#### Numpy: \n",
    "\n",
    "NumPy is a Python library for fast numerical computations using arrays and matrices, along with a large collection of mathematical functions. In machine learning, it is used for data manipulation, linear algebra operations, and efficient handling of large datasets.\n",
    "\n",
    "\n",
    "\n",
    "Explanation of Methods:\n",
    "\n",
    "np.array(): Creates an array from a Python list or another array-like object.\n",
    "\n",
    "np.arange(): Creates an array with values in a specified range and step size.\n",
    "\n",
    "np.linspace(): Creates an array with a specified number of evenly spaced values between a start and end point.\n",
    "\n",
    "np.zeros(): Creates an array of the specified shape filled with zeros.\n",
    "\n",
    "np.ones(): Creates an array of the specified shape filled with ones.\n",
    "\n",
    "np.full(): Creates an array filled with a specific value.\n",
    "\n",
    "np.eye(): Creates an identity matrix with ones on the diagonal and zeros elsewhere."
   ]
  },
  {
   "cell_type": "code",
   "execution_count": 27,
   "id": "f4176adb",
   "metadata": {},
   "outputs": [
    {
     "name": "stdout",
     "output_type": "stream",
     "text": [
      "Array using np.array():\n",
      " [1 2 3 4 5]\n"
     ]
    }
   ],
   "source": [
    "\n",
    "# 1. Creating an array with array()\n",
    "arr = np.array([1, 2, 3, 4, 5])\n",
    "print(\"Array using np.array():\\n\", arr)"
   ]
  },
  {
   "cell_type": "code",
   "execution_count": 11,
   "id": "3fddf9b1",
   "metadata": {},
   "outputs": [
    {
     "name": "stdout",
     "output_type": "stream",
     "text": [
      "\n",
      "Array using np.arange():\n",
      " [0 2 4 6 8]\n"
     ]
    }
   ],
   "source": [
    "# 2. Creating an array with arange() - creates an array with evenly spaced values within a given range\n",
    "arr_arange = np.arange(0, 10,2)  # From 0 to 10 with step of 2\n",
    "print(\"\\nArray using np.arange():\\n\", arr_arange)"
   ]
  },
  {
   "cell_type": "code",
   "execution_count": 15,
   "id": "c785c4b6",
   "metadata": {},
   "outputs": [
    {
     "name": "stdout",
     "output_type": "stream",
     "text": [
      "\n",
      "Array using np.linspace():\n",
      " [ 0.   2.5  5.   7.5 10. ]\n"
     ]
    }
   ],
   "source": [
    "# 3. Creating an array with linspace() - creates an array with a specified number of evenly spaced values between a range\n",
    "arr_linspace = np.linspace(0, 10, 5)  # 5 values between 0 and 10 (inclusive)\n",
    "print(\"\\nArray using np.linspace():\\n\", arr_linspace)"
   ]
  },
  {
   "cell_type": "code",
   "execution_count": 19,
   "id": "e93b0d76",
   "metadata": {},
   "outputs": [
    {
     "name": "stdout",
     "output_type": "stream",
     "text": [
      "\n",
      "Array using np.zeros():\n",
      " [[0. 0. 0. 0.]\n",
      " [0. 0. 0. 0.]\n",
      " [0. 0. 0. 0.]]\n"
     ]
    }
   ],
   "source": [
    "# 4. Creating an array of zeros with zeros() - creates an array filled with zeros\n",
    "arr_zeros = np.zeros((3, 4))  # 3x4 matrix of zeros\n",
    "print(\"\\nArray using np.zeros():\\n\", arr_zeros)"
   ]
  },
  {
   "cell_type": "code",
   "execution_count": 24,
   "id": "ef8d513d",
   "metadata": {},
   "outputs": [
    {
     "name": "stdout",
     "output_type": "stream",
     "text": [
      "\n",
      "Array using np.ones():\n",
      " [[1. 1. 1.]\n",
      " [1. 1. 1.]]\n"
     ]
    }
   ],
   "source": [
    "# 5. Creating an array of ones with ones() - creates an array filled with ones\n",
    "arr_ones = np.ones((2, 3))  # 2x3 matrix of ones\n",
    "print(\"\\nArray using np.ones():\\n\", arr_ones)"
   ]
  },
  {
   "cell_type": "code",
   "execution_count": 25,
   "id": "99021283",
   "metadata": {},
   "outputs": [
    {
     "name": "stdout",
     "output_type": "stream",
     "text": [
      "\n",
      "Array using np.full():\n",
      " [[7 7]\n",
      " [7 7]]\n"
     ]
    }
   ],
   "source": [
    "# 6. Creating an array with a specific value using full() - creates an array filled with a specific value\n",
    "arr_full = np.full((2, 2), 7)  # 2x2 matrix filled with 7\n",
    "print(\"\\nArray using np.full():\\n\", arr_full)"
   ]
  },
  {
   "cell_type": "code",
   "execution_count": 26,
   "id": "faf87d83",
   "metadata": {},
   "outputs": [
    {
     "name": "stdout",
     "output_type": "stream",
     "text": [
      "\n",
      "Array using np.eye():\n",
      " [[1. 0. 0. 0.]\n",
      " [0. 1. 0. 0.]\n",
      " [0. 0. 1. 0.]\n",
      " [0. 0. 0. 1.]]\n"
     ]
    }
   ],
   "source": [
    "# 7. Creating an identity matrix with eye() - creates an identity matrix\n",
    "arr_eye = np.eye(4)  # 4x4 identity matrix\n",
    "print(\"\\nArray using np.eye():\\n\", arr_eye)"
   ]
  },
  {
   "cell_type": "code",
   "execution_count": null,
   "id": "20c64ed2",
   "metadata": {},
   "outputs": [],
   "source": []
  }
 ],
 "metadata": {
  "kernelspec": {
   "display_name": "Python 3 (ipykernel)",
   "language": "python",
   "name": "python3"
  },
  "language_info": {
   "codemirror_mode": {
    "name": "ipython",
    "version": 3
   },
   "file_extension": ".py",
   "mimetype": "text/x-python",
   "name": "python",
   "nbconvert_exporter": "python",
   "pygments_lexer": "ipython3",
   "version": "3.9.12"
  }
 },
 "nbformat": 4,
 "nbformat_minor": 5
}
