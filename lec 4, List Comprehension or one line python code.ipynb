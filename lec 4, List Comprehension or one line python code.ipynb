{
 "cells": [
  {
   "cell_type": "markdown",
   "id": "236d8067",
   "metadata": {},
   "source": [
    "# Syntax"
   ]
  },
  {
   "cell_type": "code",
   "execution_count": 2,
   "id": "7dfc86dd",
   "metadata": {},
   "outputs": [],
   "source": [
    "# [expression for item in iterable]"
   ]
  },
  {
   "cell_type": "markdown",
   "id": "06266ea9",
   "metadata": {},
   "source": [
    "# Example Usage"
   ]
  },
  {
   "cell_type": "code",
   "execution_count": 12,
   "id": "a2ed8477",
   "metadata": {},
   "outputs": [
    {
     "data": {
      "text/plain": [
       "[0, 1, 4, 9, 16]"
      ]
     },
     "execution_count": 12,
     "metadata": {},
     "output_type": "execute_result"
    }
   ],
   "source": [
    "squares = [x**2 for x in range(5)]  # [0, 1, 4, 9, 16]\n",
    "squares"
   ]
  },
  {
   "cell_type": "markdown",
   "id": "e6856baf",
   "metadata": {},
   "source": [
    "# List Comprehension With Condition (even number)"
   ]
  },
  {
   "cell_type": "code",
   "execution_count": 11,
   "id": "0d6676d7",
   "metadata": {},
   "outputs": [
    {
     "data": {
      "text/plain": [
       "[0, 2, 4, 6, 8]"
      ]
     },
     "execution_count": 11,
     "metadata": {},
     "output_type": "execute_result"
    }
   ],
   "source": [
    "even_numbers = [x for x in range(10) if x % 2 == 0]  # [0, 2, 4, 6, 8]\n",
    "even_numbers"
   ]
  },
  {
   "cell_type": "markdown",
   "id": "64484b96",
   "metadata": {},
   "source": [
    "# List Comprehension with If-Else Inside"
   ]
  },
  {
   "cell_type": "code",
   "execution_count": 16,
   "id": "34ffb141",
   "metadata": {},
   "outputs": [
    {
     "data": {
      "text/plain": [
       "['even', 'odd', 'even', 'odd', 'even', 'odd', 'even', 'odd', 'even', 'odd']"
      ]
     },
     "execution_count": 16,
     "metadata": {},
     "output_type": "execute_result"
    }
   ],
   "source": [
    "['even' if x%2==0 else 'odd' for x in range(10)]"
   ]
  },
  {
   "cell_type": "markdown",
   "id": "b6a86d0c",
   "metadata": {},
   "source": [
    "# Nested List Comprehension\n",
    "(For working with 2D or multi-dimensional structures.)"
   ]
  },
  {
   "cell_type": "code",
   "execution_count": 18,
   "id": "7b146f5f",
   "metadata": {},
   "outputs": [
    {
     "data": {
      "text/plain": [
       "[[0, 0, 0], [0, 1, 2], [0, 2, 4]]"
      ]
     },
     "execution_count": 18,
     "metadata": {},
     "output_type": "execute_result"
    }
   ],
   "source": [
    "matrix = [[row * col for col in range(3)] for row in range(3)]\n",
    "# [[0, 0, 0], [0, 1, 2], [0, 2, 4]]\n",
    "matrix"
   ]
  },
  {
   "cell_type": "markdown",
   "id": "d33be8db",
   "metadata": {},
   "source": [
    "# Set Comprehension"
   ]
  },
  {
   "cell_type": "code",
   "execution_count": 20,
   "id": "b651b868",
   "metadata": {},
   "outputs": [
    {
     "data": {
      "text/plain": [
       "{0, 1, 2}"
      ]
     },
     "execution_count": 20,
     "metadata": {},
     "output_type": "execute_result"
    }
   ],
   "source": [
    "unique = {x % 3 for x in range(10)}  # {0, 1, 2}\n",
    "unique"
   ]
  },
  {
   "cell_type": "markdown",
   "id": "e5d62a7e",
   "metadata": {},
   "source": [
    "# Dictionary Comprehension"
   ]
  },
  {
   "cell_type": "code",
   "execution_count": 22,
   "id": "f8645b9a",
   "metadata": {},
   "outputs": [
    {
     "data": {
      "text/plain": [
       "{0: 0, 1: 1, 2: 4, 3: 9, 4: 16, 5: 25, 6: 36, 7: 49, 8: 64, 9: 81}"
      ]
     },
     "execution_count": 22,
     "metadata": {},
     "output_type": "execute_result"
    }
   ],
   "source": [
    "{x: x*x for x in range(10)}"
   ]
  },
  {
   "cell_type": "markdown",
   "id": "790f2db8",
   "metadata": {},
   "source": [
    "# One-Line Filter and Transform"
   ]
  },
  {
   "cell_type": "code",
   "execution_count": 25,
   "id": "dcc473ca",
   "metadata": {},
   "outputs": [
    {
     "data": {
      "text/plain": [
       "['PYTHON', 'JAVA', 'RUBY']"
      ]
     },
     "execution_count": 25,
     "metadata": {},
     "output_type": "execute_result"
    }
   ],
   "source": [
    "words = [\"python\", \"java\", \"c++\", \"ruby\"]\n",
    "\n",
    "[w.upper() for w in words if len(w)>3]\n"
   ]
  },
  {
   "cell_type": "markdown",
   "id": "d3fd4317",
   "metadata": {},
   "source": [
    "# One-Line Read File Lines"
   ]
  },
  {
   "cell_type": "code",
   "execution_count": 27,
   "id": "acef710b",
   "metadata": {},
   "outputs": [],
   "source": [
    "# lines = [line.strip() for line in open('file.txt')]"
   ]
  },
  {
   "cell_type": "markdown",
   "id": "e5da34ce",
   "metadata": {},
   "source": [
    "# One-Line Function Definition (Lambda)"
   ]
  },
  {
   "cell_type": "code",
   "execution_count": 28,
   "id": "d5139ca8",
   "metadata": {},
   "outputs": [
    {
     "name": "stdout",
     "output_type": "stream",
     "text": [
      "25\n"
     ]
    }
   ],
   "source": [
    "square = lambda x: x**2\n",
    "print(square(5))  # 25\n"
   ]
  },
  {
   "cell_type": "markdown",
   "id": "fa9d2847",
   "metadata": {},
   "source": [
    "# One-Line If-Else Statement (Ternary Operator)"
   ]
  },
  {
   "cell_type": "code",
   "execution_count": 29,
   "id": "ce42ccb4",
   "metadata": {},
   "outputs": [
    {
     "data": {
      "text/plain": [
       "'Even'"
      ]
     },
     "execution_count": 29,
     "metadata": {},
     "output_type": "execute_result"
    }
   ],
   "source": [
    "result = \"Even\" if 4 % 2 == 0 else \"Odd\"\n",
    "result"
   ]
  },
  {
   "cell_type": "markdown",
   "id": "c8d9b9d6",
   "metadata": {},
   "source": [
    "# One-Line Sum, Min, Max, etc."
   ]
  },
  {
   "cell_type": "code",
   "execution_count": 30,
   "id": "03a1ffe3",
   "metadata": {},
   "outputs": [
    {
     "data": {
      "text/plain": [
       "(2, 8)"
      ]
     },
     "execution_count": 30,
     "metadata": {},
     "output_type": "execute_result"
    }
   ],
   "source": [
    "smallest = min([3, 2, 8, 5])\n",
    "largest = max([3, 2, 8, 5])\n",
    "\n",
    "smallest,largest"
   ]
  },
  {
   "cell_type": "code",
   "execution_count": null,
   "id": "f3aaaf12",
   "metadata": {},
   "outputs": [],
   "source": []
  }
 ],
 "metadata": {
  "kernelspec": {
   "display_name": "Python 3 (ipykernel)",
   "language": "python",
   "name": "python3"
  },
  "language_info": {
   "codemirror_mode": {
    "name": "ipython",
    "version": 3
   },
   "file_extension": ".py",
   "mimetype": "text/x-python",
   "name": "python",
   "nbconvert_exporter": "python",
   "pygments_lexer": "ipython3",
   "version": "3.9.12"
  }
 },
 "nbformat": 4,
 "nbformat_minor": 5
}
