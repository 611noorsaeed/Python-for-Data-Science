{
 "cells": [
  {
   "cell_type": "markdown",
   "id": "63589395",
   "metadata": {},
   "source": [
    "# -------------------------------\n",
    "# Broadcasting Example\n",
    "# -------------------------------\n",
    "\n",
    "Broadcasting in NumPy is a technique that allows arithmetic operations between arrays of different shapes by automatically expanding their dimensions to make them compatible."
   ]
  },
  {
   "cell_type": "code",
   "execution_count": 2,
   "id": "2c360d17",
   "metadata": {},
   "outputs": [
    {
     "data": {
      "text/plain": [
       "array([[11, 22, 33],\n",
       "       [14, 25, 36]])"
      ]
     },
     "execution_count": 2,
     "metadata": {},
     "output_type": "execute_result"
    }
   ],
   "source": [
    "import numpy as np\n",
    "\n",
    "\n",
    "a = np.array([[1, 2, 3], [4, 5, 6]])\n",
    "b = np.array([10, 20, 30])\n",
    "\n",
    "broadcast_result = a + b  # Adds b to each row of a\n",
    "\n",
    "broadcast_result"
   ]
  },
  {
   "cell_type": "markdown",
   "id": "44bee2a7",
   "metadata": {},
   "source": [
    "# -------------------------------\n",
    "# Universal Functions\n",
    "# -------------------------------\n",
    "\n",
    "Universal functions (ufuncs) in NumPy are optimized functions that operate element-wise on arrays, supporting broadcasting, type casting, and vectorization for high performance."
   ]
  },
  {
   "cell_type": "code",
   "execution_count": 3,
   "id": "c1d538d5",
   "metadata": {},
   "outputs": [
    {
     "data": {
      "text/plain": [
       "array([1., 2., 3., 4., 5.])"
      ]
     },
     "execution_count": 3,
     "metadata": {},
     "output_type": "execute_result"
    }
   ],
   "source": [
    "\n",
    "arr = np.array([1, 4, 9, 16, 25])\n",
    "sqrt_arr = np.sqrt(arr)    # Square root\n",
    "sqrt_arr"
   ]
  },
  {
   "cell_type": "code",
   "execution_count": 4,
   "id": "20efe885",
   "metadata": {},
   "outputs": [
    {
     "data": {
      "text/plain": [
       "array([2.71828183e+00, 5.45981500e+01, 8.10308393e+03, 8.88611052e+06,\n",
       "       7.20048993e+10])"
      ]
     },
     "execution_count": 4,
     "metadata": {},
     "output_type": "execute_result"
    }
   ],
   "source": [
    "exp_arr = np.exp(arr)      # Exponential\n",
    "exp_arr"
   ]
  },
  {
   "cell_type": "code",
   "execution_count": 5,
   "id": "e8091e1d",
   "metadata": {},
   "outputs": [
    {
     "data": {
      "text/plain": [
       "array([0.        , 1.38629436, 2.19722458, 2.77258872, 3.21887582])"
      ]
     },
     "execution_count": 5,
     "metadata": {},
     "output_type": "execute_result"
    }
   ],
   "source": [
    "log_arr = np.log(arr)      # Natural log\n",
    "log_arr"
   ]
  },
  {
   "cell_type": "code",
   "execution_count": 6,
   "id": "9b660dbd",
   "metadata": {},
   "outputs": [
    {
     "data": {
      "text/plain": [
       "array([ 5, 10, 15])"
      ]
     },
     "execution_count": 6,
     "metadata": {},
     "output_type": "execute_result"
    }
   ],
   "source": [
    "abs_arr = np.abs([-5, -10, 15])  # Absolute values\n",
    "abs_arr"
   ]
  },
  {
   "cell_type": "markdown",
   "id": "10998fa8",
   "metadata": {},
   "source": [
    "# -------------------------------\n",
    "# Aggregate Functions\n",
    "# -------------------------------\n",
    "\n",
    "Aggregate functions in NumPy perform a computation that reduces an array to a single value or smaller shape, such as sum(), mean(), min(), and max(), often applied along a specified axis."
   ]
  },
  {
   "cell_type": "code",
   "execution_count": 11,
   "id": "891afa44",
   "metadata": {},
   "outputs": [
    {
     "data": {
      "text/plain": [
       "np.int64(21)"
      ]
     },
     "execution_count": 11,
     "metadata": {},
     "output_type": "execute_result"
    }
   ],
   "source": [
    "\n",
    "agg_arr = np.array([[1, 2, 3], [4, 5, 6]])\n",
    "total_sum = np.sum(agg_arr)\n",
    "total_sum"
   ]
  },
  {
   "cell_type": "code",
   "execution_count": 12,
   "id": "ea7f5c61",
   "metadata": {},
   "outputs": [
    {
     "data": {
      "text/plain": [
       "(np.int64(1), np.int64(6))"
      ]
     },
     "execution_count": 12,
     "metadata": {},
     "output_type": "execute_result"
    }
   ],
   "source": [
    "minimum = np.min(agg_arr)\n",
    "maximum = np.max(agg_arr)\n",
    "minimum, maximum"
   ]
  },
  {
   "cell_type": "code",
   "execution_count": 13,
   "id": "f6cfbc82",
   "metadata": {},
   "outputs": [
    {
     "data": {
      "text/plain": [
       "(np.float64(3.5),\n",
       " np.float64(1.707825127659933),\n",
       " np.float64(2.9166666666666665))"
      ]
     },
     "execution_count": 13,
     "metadata": {},
     "output_type": "execute_result"
    }
   ],
   "source": [
    "mean_val = np.mean(agg_arr)\n",
    "std_dev = np.std(agg_arr)\n",
    "variance = np.var(agg_arr)\n",
    "mean_val, std_dev, variance"
   ]
  },
  {
   "cell_type": "code",
   "execution_count": 17,
   "id": "2d725edb",
   "metadata": {},
   "outputs": [
    {
     "data": {
      "text/plain": [
       "(np.int64(0), np.int64(2))"
      ]
     },
     "execution_count": 17,
     "metadata": {},
     "output_type": "execute_result"
    }
   ],
   "source": [
    "max_index = np.argmax([10,2,3])  # Index of max value in flattened array\n",
    "min_index = np.argmin([100,200,2])  # Index of min value in flattened array\n",
    "\n",
    "max_index, min_index"
   ]
  },
  {
   "cell_type": "code",
   "execution_count": null,
   "id": "270fed0d",
   "metadata": {},
   "outputs": [],
   "source": []
  }
 ],
 "metadata": {
  "kernelspec": {
   "display_name": "Python 3 (ipykernel)",
   "language": "python",
   "name": "python3"
  },
  "language_info": {
   "codemirror_mode": {
    "name": "ipython",
    "version": 3
   },
   "file_extension": ".py",
   "mimetype": "text/x-python",
   "name": "python",
   "nbconvert_exporter": "python",
   "pygments_lexer": "ipython3",
   "version": "3.9.12"
  }
 },
 "nbformat": 4,
 "nbformat_minor": 5
}
