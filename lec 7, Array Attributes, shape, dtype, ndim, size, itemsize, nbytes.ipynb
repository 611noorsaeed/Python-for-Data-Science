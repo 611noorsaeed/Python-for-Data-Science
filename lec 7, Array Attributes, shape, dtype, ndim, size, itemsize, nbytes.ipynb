{
 "cells": [
  {
   "cell_type": "markdown",
   "id": "9de478cf",
   "metadata": {},
   "source": [
    "# Array Attributes, shape, dtype, ndim, size, itemsize, nbytes\n",
    "\n",
    "\n",
    "shape – Returns a tuple indicating the dimensions of the array (e.g., rows and columns).\n",
    "\n",
    "dtype – Shows the data type of the array elements (e.g., int32, float64).\n",
    "\n",
    "ndim – Tells the number of dimensions (axes) in the array.\n",
    "\n",
    "size – Gives the total number of elements in the array.\n",
    "\n",
    "itemsize – Returns the size in bytes of one array element.\n",
    "\n",
    "nbytes – Displays the total number of bytes consumed by the array."
   ]
  },
  {
   "cell_type": "code",
   "execution_count": 12,
   "id": "d4137054",
   "metadata": {},
   "outputs": [
    {
     "name": "stdout",
     "output_type": "stream",
     "text": [
      "[[ 1  2  3]\n",
      " [10 20 30]]\n"
     ]
    }
   ],
   "source": [
    "import numpy as np\n",
    "\n",
    "\n",
    "# Create a sample NumPy array\n",
    "arr = np.array([[1,2,3],[10,20,30]])\n",
    "print(arr)"
   ]
  },
  {
   "cell_type": "code",
   "execution_count": 13,
   "id": "4db1d901",
   "metadata": {},
   "outputs": [
    {
     "name": "stdout",
     "output_type": "stream",
     "text": [
      "Array:\n",
      "[[ 1  2  3]\n",
      " [10 20 30]]\n",
      "\n",
      "Attributes:\n",
      "Shape     : (2, 3)\n",
      "Dtype     : int64\n",
      "Ndim      : 2\n",
      "Size      : 6\n",
      "Itemsize  : 8\n",
      "Nbytes    : 48\n"
     ]
    }
   ],
   "source": [
    "# Display array and attributes\n",
    "print(\"Array:\")\n",
    "print(arr)\n",
    "print(\"\\nAttributes:\")\n",
    "print(\"Shape     :\", arr.shape)      # (2, 3) – 2 rows, 3 columns\n",
    "print(\"Dtype     :\", arr.dtype)      # int32 – data type of each element\n",
    "print(\"Ndim      :\", arr.ndim)       # 2 – number of dimensions\n",
    "print(\"Size      :\", arr.size)       # 6 – total number of elements\n",
    "print(\"Itemsize  :\", arr.itemsize)   # 4 – size (in bytes) of each element\n",
    "print(\"Nbytes    :\", arr.nbytes)     # 24 – total memory used by array (6 * 4)"
   ]
  },
  {
   "cell_type": "code",
   "execution_count": null,
   "id": "a3648dae",
   "metadata": {},
   "outputs": [],
   "source": []
  }
 ],
 "metadata": {
  "kernelspec": {
   "display_name": "Python 3 (ipykernel)",
   "language": "python",
   "name": "python3"
  },
  "language_info": {
   "codemirror_mode": {
    "name": "ipython",
    "version": 3
   },
   "file_extension": ".py",
   "mimetype": "text/x-python",
   "name": "python",
   "nbconvert_exporter": "python",
   "pygments_lexer": "ipython3",
   "version": "3.9.12"
  }
 },
 "nbformat": 4,
 "nbformat_minor": 5
}
