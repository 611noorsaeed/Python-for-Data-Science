{
 "cells": [
  {
   "cell_type": "markdown",
   "id": "eca6df7c",
   "metadata": {},
   "source": [
    "# What is groupby in pandas: \n",
    "\n",
    "The groupby() method in pandas is used to split data into groups based on one or more columns.\n",
    "It allows performing operations like sum, mean, count, etc., on each group separately.\n",
    "It returns a GroupBy object that can be iterated or aggregated.\n",
    "\n",
    "## Why & When to Use (Concise List):\n",
    "\n",
    "a. When summarizing data by category (e.g., total sales per region)\n",
    "\n",
    "b. For aggregation (sum, mean, min, max, etc.)\n",
    "\n",
    "c. For transforming or filtering groups\n",
    "\n",
    "d. Useful in pivot-style reporting or statistical analysis\n",
    "\n",
    "e. Essential for time-series, customer segmentation, and reporting tasks\n",
    "\n",
    "\n",
    "### We will ask from dataset\n",
    "\n",
    " 1. How many passengers survived in each class?\n",
    " \n",
    " 2. What is the average age of passengers by gender?\n",
    " \n",
    " 3. How many passengers are there per embarkation port?\n",
    "  \n",
    " 4. What is the average fare paid by class and gender?\n",
    " \n",
    " 5. How many siblings/spouses aboard per class?\n",
    "  \n",
    " 6. What is the maximum fare in each passenger class?\n",
    " \n",
    " 7. What is the mean and std of age by survival?\n",
    " \n",
    " 8. Find the oldest and youngest passengers in each passenger class\n",
    "\n",
    "\n",
    " 9. Calculate total fare and average age for each embarked port\n",
    "\n",
    "\n",
    " 10. Find the Most Common Embarked Port for each Passenger Class:\n",
    "\n",
    " 11. Calculate the Age Range (Max - Min) for each Title (Mr, Mrs, etc.):\n",
    " \n",
    " \n",
    " ### Bonus Question (12, 13, 14)\n"
   ]
  },
  {
   "cell_type": "code",
   "execution_count": 42,
   "id": "149b539a",
   "metadata": {},
   "outputs": [
    {
     "data": {
      "text/html": [
       "<div>\n",
       "<style scoped>\n",
       "    .dataframe tbody tr th:only-of-type {\n",
       "        vertical-align: middle;\n",
       "    }\n",
       "\n",
       "    .dataframe tbody tr th {\n",
       "        vertical-align: top;\n",
       "    }\n",
       "\n",
       "    .dataframe thead th {\n",
       "        text-align: right;\n",
       "    }\n",
       "</style>\n",
       "<table border=\"1\" class=\"dataframe\">\n",
       "  <thead>\n",
       "    <tr style=\"text-align: right;\">\n",
       "      <th></th>\n",
       "      <th>PassengerId</th>\n",
       "      <th>Survived</th>\n",
       "      <th>Pclass</th>\n",
       "      <th>Name</th>\n",
       "      <th>Sex</th>\n",
       "      <th>Age</th>\n",
       "      <th>SibSp</th>\n",
       "      <th>Parch</th>\n",
       "      <th>Ticket</th>\n",
       "      <th>Fare</th>\n",
       "      <th>Cabin</th>\n",
       "      <th>Embarked</th>\n",
       "    </tr>\n",
       "  </thead>\n",
       "  <tbody>\n",
       "    <tr>\n",
       "      <th>0</th>\n",
       "      <td>892</td>\n",
       "      <td>0</td>\n",
       "      <td>3</td>\n",
       "      <td>Kelly, Mr. James</td>\n",
       "      <td>male</td>\n",
       "      <td>34.5</td>\n",
       "      <td>0</td>\n",
       "      <td>0</td>\n",
       "      <td>330911</td>\n",
       "      <td>7.8292</td>\n",
       "      <td>NaN</td>\n",
       "      <td>Q</td>\n",
       "    </tr>\n",
       "    <tr>\n",
       "      <th>1</th>\n",
       "      <td>893</td>\n",
       "      <td>1</td>\n",
       "      <td>3</td>\n",
       "      <td>Wilkes, Mrs. James (Ellen Needs)</td>\n",
       "      <td>female</td>\n",
       "      <td>47.0</td>\n",
       "      <td>1</td>\n",
       "      <td>0</td>\n",
       "      <td>363272</td>\n",
       "      <td>7.0000</td>\n",
       "      <td>NaN</td>\n",
       "      <td>S</td>\n",
       "    </tr>\n",
       "    <tr>\n",
       "      <th>2</th>\n",
       "      <td>894</td>\n",
       "      <td>0</td>\n",
       "      <td>2</td>\n",
       "      <td>Myles, Mr. Thomas Francis</td>\n",
       "      <td>male</td>\n",
       "      <td>62.0</td>\n",
       "      <td>0</td>\n",
       "      <td>0</td>\n",
       "      <td>240276</td>\n",
       "      <td>9.6875</td>\n",
       "      <td>NaN</td>\n",
       "      <td>Q</td>\n",
       "    </tr>\n",
       "    <tr>\n",
       "      <th>3</th>\n",
       "      <td>895</td>\n",
       "      <td>0</td>\n",
       "      <td>3</td>\n",
       "      <td>Wirz, Mr. Albert</td>\n",
       "      <td>male</td>\n",
       "      <td>27.0</td>\n",
       "      <td>0</td>\n",
       "      <td>0</td>\n",
       "      <td>315154</td>\n",
       "      <td>8.6625</td>\n",
       "      <td>NaN</td>\n",
       "      <td>S</td>\n",
       "    </tr>\n",
       "    <tr>\n",
       "      <th>4</th>\n",
       "      <td>896</td>\n",
       "      <td>1</td>\n",
       "      <td>3</td>\n",
       "      <td>Hirvonen, Mrs. Alexander (Helga E Lindqvist)</td>\n",
       "      <td>female</td>\n",
       "      <td>22.0</td>\n",
       "      <td>1</td>\n",
       "      <td>1</td>\n",
       "      <td>3101298</td>\n",
       "      <td>12.2875</td>\n",
       "      <td>NaN</td>\n",
       "      <td>S</td>\n",
       "    </tr>\n",
       "  </tbody>\n",
       "</table>\n",
       "</div>"
      ],
      "text/plain": [
       "   PassengerId  Survived  Pclass  \\\n",
       "0          892         0       3   \n",
       "1          893         1       3   \n",
       "2          894         0       2   \n",
       "3          895         0       3   \n",
       "4          896         1       3   \n",
       "\n",
       "                                           Name     Sex   Age  SibSp  Parch  \\\n",
       "0                              Kelly, Mr. James    male  34.5      0      0   \n",
       "1              Wilkes, Mrs. James (Ellen Needs)  female  47.0      1      0   \n",
       "2                     Myles, Mr. Thomas Francis    male  62.0      0      0   \n",
       "3                              Wirz, Mr. Albert    male  27.0      0      0   \n",
       "4  Hirvonen, Mrs. Alexander (Helga E Lindqvist)  female  22.0      1      1   \n",
       "\n",
       "    Ticket     Fare Cabin Embarked  \n",
       "0   330911   7.8292   NaN        Q  \n",
       "1   363272   7.0000   NaN        S  \n",
       "2   240276   9.6875   NaN        Q  \n",
       "3   315154   8.6625   NaN        S  \n",
       "4  3101298  12.2875   NaN        S  "
      ]
     },
     "execution_count": 42,
     "metadata": {},
     "output_type": "execute_result"
    }
   ],
   "source": [
    "import pandas as pd \n",
    "df = pd.read_csv(\"lec 17, dataset.csv\")\n",
    "df.head()"
   ]
  },
  {
   "cell_type": "markdown",
   "id": "0c03076c",
   "metadata": {},
   "source": [
    "#  1. How many passengers survived in each class?"
   ]
  },
  {
   "cell_type": "code",
   "execution_count": 43,
   "id": "51e5a2cf",
   "metadata": {},
   "outputs": [
    {
     "data": {
      "text/plain": [
       "Pclass\n",
       "1    50\n",
       "2    30\n",
       "3    72\n",
       "Name: Survived, dtype: int64"
      ]
     },
     "execution_count": 43,
     "metadata": {},
     "output_type": "execute_result"
    }
   ],
   "source": [
    "df.groupby(\"Pclass\")['Survived'].sum()"
   ]
  },
  {
   "cell_type": "markdown",
   "id": "ec850320",
   "metadata": {},
   "source": [
    "# 2. What is the average age of passengers by gender?"
   ]
  },
  {
   "cell_type": "code",
   "execution_count": 44,
   "id": "6616bd42",
   "metadata": {},
   "outputs": [
    {
     "data": {
      "text/plain": [
       "Sex\n",
       "female    30.272362\n",
       "male      30.272732\n",
       "Name: Age, dtype: float64"
      ]
     },
     "execution_count": 44,
     "metadata": {},
     "output_type": "execute_result"
    }
   ],
   "source": [
    "df.groupby('Sex')['Age'].mean()"
   ]
  },
  {
   "cell_type": "markdown",
   "id": "2de2f69e",
   "metadata": {},
   "source": [
    "# 3. How many passengers are there per embarkation port?"
   ]
  },
  {
   "cell_type": "code",
   "execution_count": 45,
   "id": "fffd937d",
   "metadata": {},
   "outputs": [
    {
     "data": {
      "text/plain": [
       "Embarked\n",
       "C    102\n",
       "Q     46\n",
       "S    270\n",
       "Name: PassengerId, dtype: int64"
      ]
     },
     "execution_count": 45,
     "metadata": {},
     "output_type": "execute_result"
    }
   ],
   "source": [
    "df.groupby('Embarked')['PassengerId'].count()"
   ]
  },
  {
   "cell_type": "markdown",
   "id": "51268a98",
   "metadata": {},
   "source": [
    "# 4. What is the average fare paid by class and gender?"
   ]
  },
  {
   "cell_type": "code",
   "execution_count": 46,
   "id": "ca1c1902",
   "metadata": {},
   "outputs": [
    {
     "data": {
      "text/plain": [
       "Pclass  Sex   \n",
       "1       female    115.591168\n",
       "        male       75.586551\n",
       "2       female     26.438750\n",
       "        male       20.184654\n",
       "3       female     13.735129\n",
       "        male       11.826350\n",
       "Name: Fare, dtype: float64"
      ]
     },
     "execution_count": 46,
     "metadata": {},
     "output_type": "execute_result"
    }
   ],
   "source": [
    "df.groupby(['Pclass','Sex'])['Fare'].mean()"
   ]
  },
  {
   "cell_type": "markdown",
   "id": "ff30b7ed",
   "metadata": {},
   "source": [
    "# 5. How many siblings/spouses aboard per class?"
   ]
  },
  {
   "cell_type": "code",
   "execution_count": 47,
   "id": "34f6b1de",
   "metadata": {},
   "outputs": [
    {
     "data": {
      "text/plain": [
       "Pclass\n",
       "1     51\n",
       "2     35\n",
       "3    101\n",
       "Name: SibSp, dtype: int64"
      ]
     },
     "execution_count": 47,
     "metadata": {},
     "output_type": "execute_result"
    }
   ],
   "source": [
    "df.groupby('Pclass')['SibSp'].sum()"
   ]
  },
  {
   "cell_type": "markdown",
   "id": "aafee307",
   "metadata": {},
   "source": [
    "# 6. What is the maximum fare in each passenger class?"
   ]
  },
  {
   "cell_type": "code",
   "execution_count": 48,
   "id": "681f9960",
   "metadata": {},
   "outputs": [
    {
     "data": {
      "text/plain": [
       "Pclass\n",
       "1    512.3292\n",
       "2     73.5000\n",
       "3     69.5500\n",
       "Name: Fare, dtype: float64"
      ]
     },
     "execution_count": 48,
     "metadata": {},
     "output_type": "execute_result"
    }
   ],
   "source": [
    "df.groupby('Pclass')['Fare'].max()"
   ]
  },
  {
   "cell_type": "markdown",
   "id": "854fce8c",
   "metadata": {},
   "source": [
    "# 7 What is the mean and std of age by survival?"
   ]
  },
  {
   "cell_type": "code",
   "execution_count": 49,
   "id": "1a782957",
   "metadata": {},
   "outputs": [
    {
     "data": {
      "text/html": [
       "<div>\n",
       "<style scoped>\n",
       "    .dataframe tbody tr th:only-of-type {\n",
       "        vertical-align: middle;\n",
       "    }\n",
       "\n",
       "    .dataframe tbody tr th {\n",
       "        vertical-align: top;\n",
       "    }\n",
       "\n",
       "    .dataframe thead th {\n",
       "        text-align: right;\n",
       "    }\n",
       "</style>\n",
       "<table border=\"1\" class=\"dataframe\">\n",
       "  <thead>\n",
       "    <tr style=\"text-align: right;\">\n",
       "      <th></th>\n",
       "      <th>mean</th>\n",
       "      <th>std</th>\n",
       "    </tr>\n",
       "    <tr>\n",
       "      <th>Survived</th>\n",
       "      <th></th>\n",
       "      <th></th>\n",
       "    </tr>\n",
       "  </thead>\n",
       "  <tbody>\n",
       "    <tr>\n",
       "      <th>0</th>\n",
       "      <td>30.272732</td>\n",
       "      <td>13.389528</td>\n",
       "    </tr>\n",
       "    <tr>\n",
       "      <th>1</th>\n",
       "      <td>30.272362</td>\n",
       "      <td>15.428613</td>\n",
       "    </tr>\n",
       "  </tbody>\n",
       "</table>\n",
       "</div>"
      ],
      "text/plain": [
       "               mean        std\n",
       "Survived                      \n",
       "0         30.272732  13.389528\n",
       "1         30.272362  15.428613"
      ]
     },
     "execution_count": 49,
     "metadata": {},
     "output_type": "execute_result"
    }
   ],
   "source": [
    "df.groupby('Survived')['Age'].agg(['mean', 'std'])"
   ]
  },
  {
   "cell_type": "markdown",
   "id": "475267ab",
   "metadata": {},
   "source": [
    "#  8. Find the oldest and youngest passengers in each passenger class"
   ]
  },
  {
   "cell_type": "code",
   "execution_count": 50,
   "id": "8d26547a",
   "metadata": {},
   "outputs": [
    {
     "data": {
      "text/html": [
       "<div>\n",
       "<style scoped>\n",
       "    .dataframe tbody tr th:only-of-type {\n",
       "        vertical-align: middle;\n",
       "    }\n",
       "\n",
       "    .dataframe tbody tr th {\n",
       "        vertical-align: top;\n",
       "    }\n",
       "\n",
       "    .dataframe thead th {\n",
       "        text-align: right;\n",
       "    }\n",
       "</style>\n",
       "<table border=\"1\" class=\"dataframe\">\n",
       "  <thead>\n",
       "    <tr style=\"text-align: right;\">\n",
       "      <th></th>\n",
       "      <th>max</th>\n",
       "      <th>min</th>\n",
       "    </tr>\n",
       "    <tr>\n",
       "      <th>Pclass</th>\n",
       "      <th></th>\n",
       "      <th></th>\n",
       "    </tr>\n",
       "  </thead>\n",
       "  <tbody>\n",
       "    <tr>\n",
       "      <th>1</th>\n",
       "      <td>76.0</td>\n",
       "      <td>6.00</td>\n",
       "    </tr>\n",
       "    <tr>\n",
       "      <th>2</th>\n",
       "      <td>63.0</td>\n",
       "      <td>0.92</td>\n",
       "    </tr>\n",
       "    <tr>\n",
       "      <th>3</th>\n",
       "      <td>60.5</td>\n",
       "      <td>0.17</td>\n",
       "    </tr>\n",
       "  </tbody>\n",
       "</table>\n",
       "</div>"
      ],
      "text/plain": [
       "         max   min\n",
       "Pclass            \n",
       "1       76.0  6.00\n",
       "2       63.0  0.92\n",
       "3       60.5  0.17"
      ]
     },
     "execution_count": 50,
     "metadata": {},
     "output_type": "execute_result"
    }
   ],
   "source": [
    "df.groupby('Pclass')['Age'].agg(['max','min'])"
   ]
  },
  {
   "cell_type": "markdown",
   "id": "fe84cf29",
   "metadata": {},
   "source": [
    "# 9. Calculate total fare and average age for each embarked port"
   ]
  },
  {
   "cell_type": "code",
   "execution_count": 51,
   "id": "5aec79aa",
   "metadata": {},
   "outputs": [
    {
     "data": {
      "text/html": [
       "<div>\n",
       "<style scoped>\n",
       "    .dataframe tbody tr th:only-of-type {\n",
       "        vertical-align: middle;\n",
       "    }\n",
       "\n",
       "    .dataframe tbody tr th {\n",
       "        vertical-align: top;\n",
       "    }\n",
       "\n",
       "    .dataframe thead th {\n",
       "        text-align: right;\n",
       "    }\n",
       "</style>\n",
       "<table border=\"1\" class=\"dataframe\">\n",
       "  <thead>\n",
       "    <tr style=\"text-align: right;\">\n",
       "      <th></th>\n",
       "      <th>Fare</th>\n",
       "      <th>Age</th>\n",
       "    </tr>\n",
       "    <tr>\n",
       "      <th>Embarked</th>\n",
       "      <th></th>\n",
       "      <th></th>\n",
       "    </tr>\n",
       "  </thead>\n",
       "  <tbody>\n",
       "    <tr>\n",
       "      <th>C</th>\n",
       "      <td>6758.4960</td>\n",
       "      <td>34.737805</td>\n",
       "    </tr>\n",
       "    <tr>\n",
       "      <th>Q</th>\n",
       "      <td>504.0542</td>\n",
       "      <td>29.318182</td>\n",
       "    </tr>\n",
       "    <tr>\n",
       "      <th>S</th>\n",
       "      <td>7593.9874</td>\n",
       "      <td>28.758772</td>\n",
       "    </tr>\n",
       "  </tbody>\n",
       "</table>\n",
       "</div>"
      ],
      "text/plain": [
       "               Fare        Age\n",
       "Embarked                      \n",
       "C         6758.4960  34.737805\n",
       "Q          504.0542  29.318182\n",
       "S         7593.9874  28.758772"
      ]
     },
     "execution_count": 51,
     "metadata": {},
     "output_type": "execute_result"
    }
   ],
   "source": [
    "df.groupby('Embarked').agg({'Fare':'sum', 'Age':'mean'})"
   ]
  },
  {
   "cell_type": "markdown",
   "id": "4415635f",
   "metadata": {},
   "source": [
    "#  10. Find the Most Common Embarked Port for each Passenger Class"
   ]
  },
  {
   "cell_type": "code",
   "execution_count": 52,
   "id": "f39af144",
   "metadata": {},
   "outputs": [
    {
     "data": {
      "text/plain": [
       "Pclass\n",
       "1    C\n",
       "2    S\n",
       "3    S\n",
       "Name: Embarked, dtype: object"
      ]
     },
     "execution_count": 52,
     "metadata": {},
     "output_type": "execute_result"
    }
   ],
   "source": [
    "df.groupby(\"Pclass\")['Embarked'].apply(lambda x: x.mode().iloc[0])"
   ]
  },
  {
   "cell_type": "markdown",
   "id": "7e56d07e",
   "metadata": {},
   "source": [
    "# 11. Calculate the Age Range (Max - Min) for each Title (Mr, Mrs, etc.):"
   ]
  },
  {
   "cell_type": "code",
   "execution_count": 53,
   "id": "90343ec0",
   "metadata": {},
   "outputs": [
    {
     "data": {
      "text/plain": [
       "title\n",
       "Col        6.00\n",
       "Dona       0.00\n",
       "Dr         0.00\n",
       "Master    14.17\n",
       "Miss      44.83\n",
       "Mr        53.00\n",
       "Mrs       60.00\n",
       "Ms          NaN\n",
       "Rev       11.00\n",
       "Name: Age, dtype: float64"
      ]
     },
     "execution_count": 53,
     "metadata": {},
     "output_type": "execute_result"
    }
   ],
   "source": [
    "df['title'] = df['Name'].str.extract('([A-Za-z]+)\\.')\n",
    "\n",
    "df.groupby('title')['Age'].agg(lambda x: x.max() - x.min())"
   ]
  },
  {
   "cell_type": "markdown",
   "id": "78314f27",
   "metadata": {},
   "source": [
    "# 12. Group Passengers by Age Range and Calculate the Survival Rate:"
   ]
  },
  {
   "cell_type": "code",
   "execution_count": 54,
   "id": "26c96676",
   "metadata": {},
   "outputs": [],
   "source": [
    "# Group passengers by age range and calculate survival rate\n",
    "age_bins = [0, 18, 30, 50, 100]\n",
    "age_labels = ['0-18', '19-30', '31-50', '51+']\n",
    "df['AgeRange'] = pd.cut(df['Age'], bins=age_bins, labels=age_labels)"
   ]
  },
  {
   "cell_type": "code",
   "execution_count": 55,
   "id": "a545c8df",
   "metadata": {},
   "outputs": [],
   "source": [
    "age_bins = [0, 18, 30, 50, 100]\n",
    "age_labels = ['0-18', '19-30', '31-50','51+']\n",
    "\n",
    "df['AgeRange'] = pd.cut(df['Age'], bins=age_bins, labels=age_labels)"
   ]
  },
  {
   "cell_type": "code",
   "execution_count": 56,
   "id": "cf7e54d7",
   "metadata": {},
   "outputs": [
    {
     "name": "stderr",
     "output_type": "stream",
     "text": [
      "C:\\Users\\Noor Saeed\\AppData\\Local\\Temp\\ipykernel_18232\\844689211.py:1: FutureWarning: The default of observed=False is deprecated and will be changed to True in a future version of pandas. Pass observed=False to retain current behavior or observed=True to adopt the future default and silence this warning.\n",
      "  df.groupby('AgeRange')['Survived'].mean() * 100\n"
     ]
    },
    {
     "data": {
      "text/plain": [
       "AgeRange\n",
       "0-18     44.444444\n",
       "19-30    36.301370\n",
       "31-50    34.653465\n",
       "51+      48.387097\n",
       "Name: Survived, dtype: float64"
      ]
     },
     "execution_count": 56,
     "metadata": {},
     "output_type": "execute_result"
    }
   ],
   "source": [
    "df.groupby('AgeRange')['Survived'].mean() * 100"
   ]
  },
  {
   "cell_type": "markdown",
   "id": "0ad822ca",
   "metadata": {},
   "source": [
    "# 13. Find the Passengers with the Highest Fare in each Age Group:"
   ]
  },
  {
   "cell_type": "code",
   "execution_count": 57,
   "id": "0015fcf5",
   "metadata": {},
   "outputs": [
    {
     "data": {
      "text/plain": [
       "0      31-50\n",
       "1      31-50\n",
       "2        51+\n",
       "3      19-30\n",
       "4      19-30\n",
       "       ...  \n",
       "413      NaN\n",
       "414    31-50\n",
       "415    31-50\n",
       "416      NaN\n",
       "417      NaN\n",
       "Name: agegroup, Length: 418, dtype: category\n",
       "Categories (4, object): ['0-18' < '19-30' < '31-50' < '51+']"
      ]
     },
     "execution_count": 57,
     "metadata": {},
     "output_type": "execute_result"
    }
   ],
   "source": [
    "# Create age bins and labels\n",
    "age_bins = [0, 18, 30, 50, 100]\n",
    "age_labels = ['0-18', '19-30', '31-50', '51+'] \n",
    "df['agegroup'] = pd.cut(df['Age'],bins=age_bins,labels=age_labels)\n",
    "df['agegroup']"
   ]
  },
  {
   "cell_type": "code",
   "execution_count": 58,
   "id": "593d5fc7",
   "metadata": {},
   "outputs": [
    {
     "data": {
      "text/html": [
       "<div>\n",
       "<style scoped>\n",
       "    .dataframe tbody tr th:only-of-type {\n",
       "        vertical-align: middle;\n",
       "    }\n",
       "\n",
       "    .dataframe tbody tr th {\n",
       "        vertical-align: top;\n",
       "    }\n",
       "\n",
       "    .dataframe thead th {\n",
       "        text-align: right;\n",
       "    }\n",
       "</style>\n",
       "<table border=\"1\" class=\"dataframe\">\n",
       "  <thead>\n",
       "    <tr style=\"text-align: right;\">\n",
       "      <th></th>\n",
       "      <th>Name</th>\n",
       "      <th>Fare</th>\n",
       "    </tr>\n",
       "  </thead>\n",
       "  <tbody>\n",
       "    <tr>\n",
       "      <th>64</th>\n",
       "      <td>Ryerson, Master. John Borie</td>\n",
       "      <td>262.3750</td>\n",
       "    </tr>\n",
       "    <tr>\n",
       "      <th>53</th>\n",
       "      <td>Fortune, Miss. Ethel Flora</td>\n",
       "      <td>263.0000</td>\n",
       "    </tr>\n",
       "    <tr>\n",
       "      <th>24</th>\n",
       "      <td>Ryerson, Mrs. Arthur Larned (Emily Maria Borie)</td>\n",
       "      <td>262.3750</td>\n",
       "    </tr>\n",
       "    <tr>\n",
       "      <th>343</th>\n",
       "      <td>Cardeza, Mrs. James Warburton Martinez (Charlo...</td>\n",
       "      <td>512.3292</td>\n",
       "    </tr>\n",
       "  </tbody>\n",
       "</table>\n",
       "</div>"
      ],
      "text/plain": [
       "                                                  Name      Fare\n",
       "64                         Ryerson, Master. John Borie  262.3750\n",
       "53                          Fortune, Miss. Ethel Flora  263.0000\n",
       "24     Ryerson, Mrs. Arthur Larned (Emily Maria Borie)  262.3750\n",
       "343  Cardeza, Mrs. James Warburton Martinez (Charlo...  512.3292"
      ]
     },
     "execution_count": 58,
     "metadata": {},
     "output_type": "execute_result"
    }
   ],
   "source": [
    "df.loc[df.groupby('agegroup', observed=True)['Fare'].idxmax().dropna()][['Name', 'Fare']]\n"
   ]
  },
  {
   "cell_type": "markdown",
   "id": "e638c58d",
   "metadata": {},
   "source": [
    "# 14. Find the Most Common Ticket Number for each Passenger Name :"
   ]
  },
  {
   "cell_type": "code",
   "execution_count": 59,
   "id": "5ed7c2b2",
   "metadata": {},
   "outputs": [
    {
     "data": {
      "text/plain": [
       "Name\n",
       "Abbott, Master. Eugene Joseph                           C.A. 2673\n",
       "Abelseth, Miss. Karen Marie                                348125\n",
       "Abelseth, Mr. Olaus Jorgensen                              348122\n",
       "Abrahamsson, Mr. Abraham August Johannes         SOTON/O2 3101284\n",
       "Abrahim, Mrs. Joseph (Sophie Halaut Easu)                    2657\n",
       "                                                       ...       \n",
       "de Brito, Mr. Jose Joaquim                                 244360\n",
       "de Messemaeker, Mr. Guillaume Joseph                       345572\n",
       "del Carlo, Mrs. Sebastiano (Argenia Genovesi)       SC/PARIS 2167\n",
       "van Billiard, Master. James William                      A/5. 851\n",
       "van Billiard, Master. Walter John                        A/5. 851\n",
       "Name: Ticket, Length: 418, dtype: object"
      ]
     },
     "execution_count": 59,
     "metadata": {},
     "output_type": "execute_result"
    }
   ],
   "source": [
    "# Find the most common ticket number for each passenger name prefix\n",
    "df.groupby('Name')['Ticket'].apply(lambda x: x.mode().iloc[0])"
   ]
  },
  {
   "cell_type": "code",
   "execution_count": null,
   "id": "fa769f9d",
   "metadata": {},
   "outputs": [],
   "source": []
  }
 ],
 "metadata": {
  "kernelspec": {
   "display_name": "Python 3 (ipykernel)",
   "language": "python",
   "name": "python3"
  },
  "language_info": {
   "codemirror_mode": {
    "name": "ipython",
    "version": 3
   },
   "file_extension": ".py",
   "mimetype": "text/x-python",
   "name": "python",
   "nbconvert_exporter": "python",
   "pygments_lexer": "ipython3",
   "version": "3.9.12"
  }
 },
 "nbformat": 4,
 "nbformat_minor": 5
}
