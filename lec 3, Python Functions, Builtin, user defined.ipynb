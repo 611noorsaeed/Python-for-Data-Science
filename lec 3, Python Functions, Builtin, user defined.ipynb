{
 "cells": [
  {
   "cell_type": "markdown",
   "id": "718e84ed",
   "metadata": {},
   "source": [
    "### 1. Introduction to Functions\n",
    "\n",
    "A function is a block of code that is designed to perform a specific task. Functions help in organizing code and making it reusable, modular, and easier to understand. Using functions, you can avoid repetition of code and make your program more structured.\n",
    "\n",
    "### 2. Python Built-in Functions\n",
    "\n",
    "Python provides a wide range of built-in functions that you can use without needing to define them yourself.\n",
    "\n"
   ]
  },
  {
   "cell_type": "code",
   "execution_count": 1,
   "id": "8ed909f8",
   "metadata": {},
   "outputs": [
    {
     "name": "stdout",
     "output_type": "stream",
     "text": [
      "Hello, World!\n"
     ]
    },
    {
     "data": {
      "text/plain": [
       "3"
      ]
     },
     "execution_count": 1,
     "metadata": {},
     "output_type": "execute_result"
    }
   ],
   "source": [
    "# print()\n",
    "\n",
    "# len()\n",
    "\n",
    "# type()\n",
    "\n",
    "# range()\n",
    "\n",
    "# input()\n",
    "\n",
    "# int(), float(), str(), bool()\n",
    "\n",
    "print(\"Hello, World!\")\n",
    "\n",
    "len([1, 2, 3])  # Output: 3 (1,20,30,50)"
   ]
  },
  {
   "cell_type": "code",
   "execution_count": 6,
   "id": "e92b2489",
   "metadata": {},
   "outputs": [
    {
     "data": {
      "text/plain": [
       "[1, 2, 3, 4, 5, 6, 7, 8, 9, 10]"
      ]
     },
     "execution_count": 6,
     "metadata": {},
     "output_type": "execute_result"
    }
   ],
   "source": [
    "list(range(1,11))"
   ]
  },
  {
   "cell_type": "code",
   "execution_count": 7,
   "id": "51554c26",
   "metadata": {},
   "outputs": [
    {
     "data": {
      "text/plain": [
       "int"
      ]
     },
     "execution_count": 7,
     "metadata": {},
     "output_type": "execute_result"
    }
   ],
   "source": [
    "type(5)"
   ]
  },
  {
   "cell_type": "code",
   "execution_count": 9,
   "id": "2f8e1360",
   "metadata": {},
   "outputs": [
    {
     "name": "stdout",
     "output_type": "stream",
     "text": [
      "enter number5\n"
     ]
    },
    {
     "data": {
      "text/plain": [
       "5"
      ]
     },
     "execution_count": 9,
     "metadata": {},
     "output_type": "execute_result"
    }
   ],
   "source": [
    "int(input(\"enter number\"))"
   ]
  },
  {
   "cell_type": "code",
   "execution_count": 11,
   "id": "a5908d71",
   "metadata": {},
   "outputs": [
    {
     "data": {
      "text/plain": [
       "'5'"
      ]
     },
     "execution_count": 11,
     "metadata": {},
     "output_type": "execute_result"
    }
   ],
   "source": [
    "str(5)"
   ]
  },
  {
   "cell_type": "markdown",
   "id": "6d987687",
   "metadata": {},
   "source": [
    "### User-defined Functions\n",
    "You can create your own functions in Python using the def keywor"
   ]
  },
  {
   "cell_type": "code",
   "execution_count": 16,
   "id": "738eeccb",
   "metadata": {},
   "outputs": [
    {
     "data": {
      "text/plain": [
       "30"
      ]
     },
     "execution_count": 16,
     "metadata": {},
     "output_type": "execute_result"
    }
   ],
   "source": [
    "def addition(a, b):\n",
    "    return a + b\n",
    "\n",
    "addition(10, 20)"
   ]
  },
  {
   "cell_type": "code",
   "execution_count": 18,
   "id": "ac6924c3",
   "metadata": {},
   "outputs": [
    {
     "data": {
      "text/plain": [
       "70"
      ]
     },
     "execution_count": 18,
     "metadata": {},
     "output_type": "execute_result"
    }
   ],
   "source": [
    "addition(30, 40)"
   ]
  },
  {
   "cell_type": "code",
   "execution_count": 5,
   "id": "7e42819f",
   "metadata": {},
   "outputs": [
    {
     "name": "stdout",
     "output_type": "stream",
     "text": [
      "this is abc\n"
     ]
    }
   ],
   "source": [
    "abc()"
   ]
  },
  {
   "cell_type": "code",
   "execution_count": 19,
   "id": "a242ed4b",
   "metadata": {},
   "outputs": [
    {
     "name": "stdout",
     "output_type": "stream",
     "text": [
      "noor Saeed\n"
     ]
    }
   ],
   "source": [
    "def name():\n",
    "    print(\"noor Saeed\")\n",
    "    \n",
    "name()"
   ]
  },
  {
   "cell_type": "code",
   "execution_count": 21,
   "id": "d911bdaa",
   "metadata": {},
   "outputs": [
    {
     "data": {
      "text/plain": [
       "21"
      ]
     },
     "execution_count": 21,
     "metadata": {},
     "output_type": "execute_result"
    }
   ],
   "source": [
    "# arguments and paratmers \n",
    "\n",
    "def add(a, b):\n",
    "    return a + b\n",
    "\n",
    "result = add(3, 4)  # result will be 7\n",
    "result * 3\n"
   ]
  },
  {
   "cell_type": "code",
   "execution_count": 28,
   "id": "0245eb31",
   "metadata": {},
   "outputs": [
    {
     "name": "stdout",
     "output_type": "stream",
     "text": [
      "hi, Bob! 40\n"
     ]
    }
   ],
   "source": [
    "# default paramters \n",
    "def greet(name, message='helo',age=30):\n",
    "    print(f\"{message}, {name}!\",age)\n",
    "\n",
    "greet(\"Bob\",'hi',40)       # Output: Hi, Bob!"
   ]
  },
  {
   "cell_type": "code",
   "execution_count": 31,
   "id": "6a6e294e",
   "metadata": {},
   "outputs": [
    {
     "name": "stdout",
     "output_type": "stream",
     "text": [
      "Good Morning, Alice!\n"
     ]
    }
   ],
   "source": [
    "# keywords arguments\n",
    "def greet(name, message):\n",
    "    print(f\"{message}, {name}!\")\n",
    "\n",
    "greet(name=\"Alice\", message=\"Good Morning\")"
   ]
  },
  {
   "cell_type": "code",
   "execution_count": 36,
   "id": "cb8570ab",
   "metadata": {},
   "outputs": [
    {
     "name": "stdout",
     "output_type": "stream",
     "text": [
      "Args: {'name1': 'hi', 'name2': 'ai'}\n"
     ]
    }
   ],
   "source": [
    "# Variable-length Arguments (*args and **kwargs):\n",
    "# *args: Used to pass a variable number of non-keyword arguments.\n",
    "\n",
    "# **kwargs: Used to pass a variable number of keyword arguments.\n",
    "\n",
    "\n",
    "def show_info(**kwargs):\n",
    "    print(\"Args:\", kwargs)\n",
    "\n",
    "show_info(name1='hi',name2='ai')\n"
   ]
  },
  {
   "cell_type": "markdown",
   "id": "495c9e29",
   "metadata": {},
   "source": [
    "### lambda functions"
   ]
  },
  {
   "cell_type": "code",
   "execution_count": 12,
   "id": "ddb0b6ea",
   "metadata": {},
   "outputs": [
    {
     "name": "stdout",
     "output_type": "stream",
     "text": [
      "25\n"
     ]
    }
   ],
   "source": [
    "square = lambda x: x * x\n",
    "print(square(5))  # Output: 25"
   ]
  },
  {
   "cell_type": "code",
   "execution_count": 49,
   "id": "02d0d133",
   "metadata": {},
   "outputs": [
    {
     "data": {
      "text/html": [
       "<div>\n",
       "<style scoped>\n",
       "    .dataframe tbody tr th:only-of-type {\n",
       "        vertical-align: middle;\n",
       "    }\n",
       "\n",
       "    .dataframe tbody tr th {\n",
       "        vertical-align: top;\n",
       "    }\n",
       "\n",
       "    .dataframe thead th {\n",
       "        text-align: right;\n",
       "    }\n",
       "</style>\n",
       "<table border=\"1\" class=\"dataframe\">\n",
       "  <thead>\n",
       "    <tr style=\"text-align: right;\">\n",
       "      <th></th>\n",
       "      <th>text1</th>\n",
       "      <th>text2</th>\n",
       "    </tr>\n",
       "  </thead>\n",
       "  <tbody>\n",
       "    <tr>\n",
       "      <th>0</th>\n",
       "      <td>How are you</td>\n",
       "      <td>I am fine</td>\n",
       "    </tr>\n",
       "  </tbody>\n",
       "</table>\n",
       "</div>"
      ],
      "text/plain": [
       "         text1      text2\n",
       "0  How are you  I am fine"
      ]
     },
     "execution_count": 49,
     "metadata": {},
     "output_type": "execute_result"
    }
   ],
   "source": [
    "import pandas as pd\n",
    "\n",
    "# Sample data\n",
    "df = pd.DataFrame([['How Are you', 'I am fine']], columns=['text1', 'text2'])\n",
    "df"
   ]
  },
  {
   "cell_type": "code",
   "execution_count": 50,
   "id": "2a5e1198",
   "metadata": {},
   "outputs": [
    {
     "data": {
      "text/plain": [
       "0    [how, are, you]\n",
       "Name: text1, dtype: object"
      ]
     },
     "execution_count": 50,
     "metadata": {},
     "output_type": "execute_result"
    }
   ],
   "source": [
    "def clean_text(text):\n",
    "    text = text.lower()\n",
    "    text = text.split()\n",
    "    return text\n",
    "\n",
    "\n",
    "df['text1'].apply(lambda x: clean_text(x))"
   ]
  },
  {
   "cell_type": "markdown",
   "id": "831ca3a8",
   "metadata": {},
   "source": [
    "### Recursion"
   ]
  },
  {
   "cell_type": "code",
   "execution_count": 13,
   "id": "cc569353",
   "metadata": {},
   "outputs": [
    {
     "name": "stdout",
     "output_type": "stream",
     "text": [
      "120\n"
     ]
    }
   ],
   "source": [
    "def factorial(n):\n",
    "    if n == 0:\n",
    "        return 1\n",
    "    else:\n",
    "        return n * factorial(n-1)\n",
    "\n",
    "print(factorial(5))  # Output: 120"
   ]
  },
  {
   "cell_type": "code",
   "execution_count": 56,
   "id": "199c10b8",
   "metadata": {},
   "outputs": [
    {
     "name": "stdout",
     "output_type": "stream",
     "text": [
      "120\n"
     ]
    }
   ],
   "source": [
    "fact = 1\n",
    "\n",
    "for i in range(1,6):\n",
    "    fact *= i\n",
    "print(fact)"
   ]
  },
  {
   "cell_type": "code",
   "execution_count": null,
   "id": "2d20e138",
   "metadata": {},
   "outputs": [],
   "source": []
  }
 ],
 "metadata": {
  "kernelspec": {
   "display_name": "Python 3 (ipykernel)",
   "language": "python",
   "name": "python3"
  },
  "language_info": {
   "codemirror_mode": {
    "name": "ipython",
    "version": 3
   },
   "file_extension": ".py",
   "mimetype": "text/x-python",
   "name": "python",
   "nbconvert_exporter": "python",
   "pygments_lexer": "ipython3",
   "version": "3.9.12"
  }
 },
 "nbformat": 4,
 "nbformat_minor": 5
}
