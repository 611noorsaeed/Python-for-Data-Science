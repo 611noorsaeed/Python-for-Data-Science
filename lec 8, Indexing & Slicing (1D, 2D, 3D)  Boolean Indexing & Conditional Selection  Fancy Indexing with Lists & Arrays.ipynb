{
 "cells": [
  {
   "cell_type": "markdown",
   "id": "5a55276e",
   "metadata": {},
   "source": [
    "# Indexing in Numpy \n",
    "\n",
    "\n",
    "#### Indexing & Slicing (1D, 2D, 3D)\n",
    "\n",
    "#### Boolean Indexing & Conditional Selection\n",
    "\n",
    "#### Fancy Indexing with Lists & Arrays"
   ]
  },
  {
   "cell_type": "markdown",
   "id": "b691028e",
   "metadata": {},
   "source": [
    "### 1. Indexing & Slicing\n",
    "##### 1D Array\n",
    "\n",
    "\n",
    "arr1[2]: Accesses the 3rd element → 30\n",
    "\n",
    "arr1[1:4]: Slices elements from index 1 to 3 → [20 30 40]"
   ]
  },
  {
   "cell_type": "code",
   "execution_count": 5,
   "id": "5b583b23",
   "metadata": {},
   "outputs": [
    {
     "name": "stdout",
     "output_type": "stream",
     "text": [
      "30\n",
      "[20 30 40]\n"
     ]
    }
   ],
   "source": [
    "import numpy as np\n",
    "arr1 = np.array([10, 20, 30, 40, 50])\n",
    "print(arr1[2])       # Indexing\n",
    "print(arr1[1:4])     # Slicing\n"
   ]
  },
  {
   "cell_type": "markdown",
   "id": "5355ae87",
   "metadata": {},
   "source": [
    "##### 2D Array\n",
    "\n",
    "arr2[1, 2]: Accesses row 1, column 2 → 6\n",
    "\n",
    "arr2[0:2, 1:3]: Slices rows 0–1 and columns 1–2 → [[2 3], [5 6]]"
   ]
  },
  {
   "cell_type": "code",
   "execution_count": 10,
   "id": "47183701",
   "metadata": {},
   "outputs": [
    {
     "name": "stdout",
     "output_type": "stream",
     "text": [
      "6\n",
      "[[2 3]\n",
      " [5 6]]\n"
     ]
    }
   ],
   "source": [
    "arr2 = np.array([[1, 2, 3], [4, 5, 6]])\n",
    "print(arr2[1, 2])        # Indexing\n",
    "print(arr2[0:2, 1:3])    # Slicing\n"
   ]
  },
  {
   "cell_type": "markdown",
   "id": "24606b21",
   "metadata": {},
   "source": [
    "#### 3D Array\n",
    "\n",
    "arr3[1, 0, 1]: Accesses 2nd depth, 1st row, 2nd column → 6\n",
    "\n",
    "arr3[:, 0:2, 0:2]: Slices entire depth with 2x2 sub-blocks"
   ]
  },
  {
   "cell_type": "code",
   "execution_count": 17,
   "id": "d6610259",
   "metadata": {},
   "outputs": [
    {
     "name": "stdout",
     "output_type": "stream",
     "text": [
      "6\n",
      "[[[1]]\n",
      "\n",
      " [[5]]]\n"
     ]
    }
   ],
   "source": [
    "arr3 = np.array([[[1,2], [3,4]], [[5,6], [7,8]]])\n",
    "print(arr3[1, 0, 1])         # Indexing\n",
    "print(arr3[:, 0:1, 0:1])     # Slicing\n"
   ]
  },
  {
   "cell_type": "code",
   "execution_count": 15,
   "id": "8fa0d1af",
   "metadata": {},
   "outputs": [
    {
     "data": {
      "text/plain": [
       "np.int64(40)"
      ]
     },
     "execution_count": 15,
     "metadata": {},
     "output_type": "execute_result"
    }
   ],
   "source": [
    "arr[1,0,1]\n"
   ]
  },
  {
   "cell_type": "markdown",
   "id": "f85132ba",
   "metadata": {},
   "source": [
    "# 2. Boolean Indexing & Conditional Selection"
   ]
  },
  {
   "cell_type": "code",
   "execution_count": 18,
   "id": "a22d2e51",
   "metadata": {},
   "outputs": [
    {
     "name": "stdout",
     "output_type": "stream",
     "text": [
      "['Noor']\n"
     ]
    }
   ],
   "source": [
    "arr = np.array([\"Noor\",'Jhon','Sara'])\n",
    "print(arr[arr == \"Noor\"])\n"
   ]
  },
  {
   "cell_type": "code",
   "execution_count": 19,
   "id": "408ae138",
   "metadata": {},
   "outputs": [
    {
     "data": {
      "text/plain": [
       "array([20, 30])"
      ]
     },
     "execution_count": 19,
     "metadata": {},
     "output_type": "execute_result"
    }
   ],
   "source": [
    "arr = np.array([10,20,30])\n",
    "arr[arr>12]"
   ]
  },
  {
   "cell_type": "code",
   "execution_count": 20,
   "id": "ceda542a",
   "metadata": {},
   "outputs": [
    {
     "data": {
      "text/plain": [
       "array([10])"
      ]
     },
     "execution_count": 20,
     "metadata": {},
     "output_type": "execute_result"
    }
   ],
   "source": [
    "arr = np.array([10,20,30])\n",
    "arr[arr<12]"
   ]
  },
  {
   "cell_type": "markdown",
   "id": "cafe1cba",
   "metadata": {},
   "source": [
    "# 3. Fancy Indexing with Lists & Arrays"
   ]
  },
  {
   "cell_type": "code",
   "execution_count": 21,
   "id": "3154ab12",
   "metadata": {},
   "outputs": [
    {
     "name": "stdout",
     "output_type": "stream",
     "text": [
      "[100 300 500]\n"
     ]
    }
   ],
   "source": [
    "arr = np.array([100, 200, 300, 400, 500])\n",
    "print(arr[[0, 2, 4]])"
   ]
  },
  {
   "cell_type": "code",
   "execution_count": null,
   "id": "838b88e7",
   "metadata": {},
   "outputs": [],
   "source": []
  }
 ],
 "metadata": {
  "kernelspec": {
   "display_name": "Python 3 (ipykernel)",
   "language": "python",
   "name": "python3"
  },
  "language_info": {
   "codemirror_mode": {
    "name": "ipython",
    "version": 3
   },
   "file_extension": ".py",
   "mimetype": "text/x-python",
   "name": "python",
   "nbconvert_exporter": "python",
   "pygments_lexer": "ipython3",
   "version": "3.9.12"
  }
 },
 "nbformat": 4,
 "nbformat_minor": 5
}
