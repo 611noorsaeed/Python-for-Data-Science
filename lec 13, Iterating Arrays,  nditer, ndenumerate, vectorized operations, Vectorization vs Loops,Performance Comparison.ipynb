{
 "cells": [
  {
   "cell_type": "markdown",
   "id": "88e10d4e",
   "metadata": {},
   "source": [
    "### 1. Iterating Arrays: nditer, ndenumerate, vectorized operations\n",
    "\n",
    "### 2. Vectorization vs Loops (Performance Comparison)"
   ]
  },
  {
   "cell_type": "markdown",
   "id": "8aed8d7c",
   "metadata": {},
   "source": [
    "# 1. Iterating Arrays: nditer, ndenumerate, vectorized operations"
   ]
  },
  {
   "cell_type": "markdown",
   "id": "fea1a059",
   "metadata": {},
   "source": [
    "### 1.1 Iterating with np.nditer()\n",
    "np.nditer is a flexible multi-dimensional iterator object for NumPy arrays."
   ]
  },
  {
   "cell_type": "code",
   "execution_count": 6,
   "id": "addedd58",
   "metadata": {},
   "outputs": [
    {
     "name": "stdout",
     "output_type": "stream",
     "text": [
      "1 2 3 4 "
     ]
    }
   ],
   "source": [
    "import numpy as np\n",
    "\n",
    "arr = np.array([[1, 2], [3, 4]])\n",
    "\n",
    "for val in np.nditer(arr):\n",
    "    print(val, end=\" \")\n"
   ]
  },
  {
   "cell_type": "markdown",
   "id": "c3045cad",
   "metadata": {},
   "source": [
    "### 1.2 Iterating with np.ndenumerate()\n",
    "Gives both the index and value:"
   ]
  },
  {
   "cell_type": "code",
   "execution_count": 7,
   "id": "5fb338bd",
   "metadata": {},
   "outputs": [
    {
     "name": "stdout",
     "output_type": "stream",
     "text": [
      "(0, 0) 1\n",
      "(0, 1) 2\n",
      "(1, 0) 3\n",
      "(1, 1) 4\n"
     ]
    }
   ],
   "source": [
    "for idx, val in np.ndenumerate(arr):\n",
    "    print(idx, val)"
   ]
  },
  {
   "cell_type": "markdown",
   "id": "c45912a1",
   "metadata": {},
   "source": [
    "### 1.3 Vectorized Operations (Highly Efficient)\n",
    "Vectorization applies operations over entire arrays without explicit loops."
   ]
  },
  {
   "cell_type": "code",
   "execution_count": 8,
   "id": "3f9830be",
   "metadata": {},
   "outputs": [
    {
     "name": "stdout",
     "output_type": "stream",
     "text": [
      "[11 22 33 44]\n"
     ]
    }
   ],
   "source": [
    "a = np.array([1, 2, 3, 4])\n",
    "b = np.array([10, 20, 30, 40])\n",
    "\n",
    "# Element-wise addition\n",
    "c = a + b\n",
    "print(c)  # [11 22 33 44]\n"
   ]
  },
  {
   "cell_type": "markdown",
   "id": "632e3818",
   "metadata": {},
   "source": [
    "# 4. Performance Comparison: Loops vs Vectorization\n",
    "Let's compare performance of adding 1 million elements."
   ]
  },
  {
   "cell_type": "code",
   "execution_count": 9,
   "id": "fd5eb30b",
   "metadata": {},
   "outputs": [],
   "source": [
    "import time\n",
    "\n",
    "# Setup\n",
    "N = 1_000_000\n",
    "a = np.arange(N)\n",
    "b = np.arange(N)"
   ]
  },
  {
   "cell_type": "code",
   "execution_count": 10,
   "id": "98716756",
   "metadata": {},
   "outputs": [
    {
     "name": "stdout",
     "output_type": "stream",
     "text": [
      "Loop Time: 0.9001443386077881\n"
     ]
    }
   ],
   "source": [
    "# Using loop\n",
    "start = time.time()\n",
    "c_loop = []\n",
    "for i in range(N):\n",
    "    c_loop.append(a[i] + b[i])\n",
    "end = time.time()\n",
    "print(\"Loop Time:\", end - start)"
   ]
  },
  {
   "cell_type": "code",
   "execution_count": 11,
   "id": "0cdc667b",
   "metadata": {},
   "outputs": [
    {
     "name": "stdout",
     "output_type": "stream",
     "text": [
      "Vectorized Time: 0.01105046272277832\n"
     ]
    }
   ],
   "source": [
    "# Using vectorization\n",
    "start = time.time()\n",
    "c_vec = a + b\n",
    "end = time.time()\n",
    "print(\"Vectorized Time:\", end - start)"
   ]
  },
  {
   "cell_type": "code",
   "execution_count": null,
   "id": "8f08f1ed",
   "metadata": {},
   "outputs": [],
   "source": []
  }
 ],
 "metadata": {
  "kernelspec": {
   "display_name": "Python 3 (ipykernel)",
   "language": "python",
   "name": "python3"
  },
  "language_info": {
   "codemirror_mode": {
    "name": "ipython",
    "version": 3
   },
   "file_extension": ".py",
   "mimetype": "text/x-python",
   "name": "python",
   "nbconvert_exporter": "python",
   "pygments_lexer": "ipython3",
   "version": "3.9.12"
  }
 },
 "nbformat": 4,
 "nbformat_minor": 5
}
